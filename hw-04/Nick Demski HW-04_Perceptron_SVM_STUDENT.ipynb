{
 "cells": [
  {
   "cell_type": "markdown",
   "id": "37abd0c1-f3bc-4c91-80b2-3b14f385ef97",
   "metadata": {},
   "source": [
    "# Homework 4\n",
    "# Perceptron, SVM, and PCA"
   ]
  },
  {
   "cell_type": "markdown",
   "id": "ed41a524-ade8-4277-bffc-7547379f9d22",
   "metadata": {},
   "source": [
    "# <p style=\"text-align: right;\"> &#9989; Nick Demski.</p>\n",
    "# <p style=\"text-align: right;\"> &#9989; Demskini.</p>"
   ]
  },
  {
   "cell_type": "markdown",
   "id": "665e13b3-c564-4b25-9e3f-8bef7e3cd6e3",
   "metadata": {},
   "source": [
    "# Goal for this homework assignment\n",
    "We have worked some basics on perceptron, SVM, and PCA in the pre-class and in-class assignments. In this homework assignment, we will:\n",
    "\n",
    "* Continue to use git as the version control tool\n",
    "* Work on unfamiliar data\n",
    "* Use perceptron to classify data \n",
    "* Use SVM to classify data\n",
    "* Use principal component analysis to facilitate classification\n",
    "\n",
    "\n",
    "**This assignment is due by 11:59 pm on Friday, April 25th. Note that ONLY the copy on GITHUB will be graded.**  **There are 60 standard points possible in this assignment including points for Git commits/pushes. The distribution of points can be found in the section headers**."
   ]
  },
  {
   "cell_type": "markdown",
   "id": "199515ba-e709-40e2-a189-5da69a6f1699",
   "metadata": {},
   "source": [
    "---\n",
    "# Part 1: Git repository (6 points)\n",
    "\n",
    "You're going to add this assignment to the `cmse202-s25-turnin` repository you previously created. The history of progress on the assignment will be tracked via git commitments. \n",
    "\n",
    "**&#9989; Do the following**:\n",
    "\n",
    "1. Navigate to your `cmse202-s25-turnin` **local** repository and create a new directory called `hw-04`\n",
    "\n",
    "2. Move this notebook into that **new directory** in your repository. \n",
    "\n",
    "5. Double check to make sure your file is at the correct directory.\n",
    "\n",
    "6. Once you're certain that file and directory are correct, add this notebook to your repository, then make a commit and push it to GitHub. You may need to use `git push origin hw04` to push your file to GitHub.\n",
    "\n",
    "Finally, &#9989; **Do this**: Before you move on, put the command that your instructor should run to clone your repository in the markdown cell below. **Points for this part will be given for correctly setting up branch, etc., above, and for doing git commits/pushes mentioned throughout the assignment.**"
   ]
  },
  {
   "cell_type": "markdown",
   "id": "329e549e-214b-4858-930f-e2b7c9015580",
   "metadata": {},
   "source": [
    "<font size=6 color=\"#009600\">&#9998;</font> git clone https://github.com/Demskini/CMSE202-fs25-turnin.git"
   ]
  },
  {
   "cell_type": "markdown",
   "id": "45e93e6e-2297-490f-b1c8-a87bbd9d4814",
   "metadata": {},
   "source": [
    "**Important**: Double check you've added your Professor and your TA as collaborators to your \"turnin\" repository (you should have done this in the previous homework assignment).\n",
    "\n",
    "**Also important**: Make sure that the version of this notebook that you are working on is the same one that you just added to your repository! If you are working on a different copy of the notebook, **none of your changes will be tracked**!\n",
    "\n",
    "If everything went as intended, the file should now show up on your GitHub account in the \"`cmse202-s25-turnin`\" repository inside the `hw-04` directory that you just created.\n",
    "\n",
    "Periodically, **you'll be asked to commit your changes to the repository and push them to the remote GitHub location**. Of course, you can always commit your changes more often than that, if you wish.  It can be good to get into a habit of committing your changes any time you make a significant modification, or when you stop working on the problems for a bit."
   ]
  },
  {
   "cell_type": "markdown",
   "id": "40b2cd6e-5eac-4817-afad-c1d8ab86214b",
   "metadata": {},
   "source": [
    "---\n",
    "# Part 2: Deal with unfamiliar data (35 points)\n",
    "\n",
    "## Warm up with perceptron for binary classification\n",
    "## 2.1 Load up the dataset\n",
    "\n",
    "This data is obtained from Kaggle/diabetes. It contains multiple measured values and a label for whether the patient is diagnosed as diabetic. \n",
    "\n",
    "* Use commands to dowdload the dataset from `https://raw.githubusercontent.com/huichiayu/cmse202-s25-supllemental_data/refs/heads/main/HW04/diabetes_prediction_dataset.csv`\n",
    "* Use Pandas to load in the data and briefly examine it.\n",
    "* Succeed data load-up gets **2 pt**. "
   ]
  },
  {
   "cell_type": "code",
   "execution_count": 14,
   "id": "c8dde6c3-799e-480b-ac67-a8e0d2716b7a",
   "metadata": {},
   "outputs": [
    {
     "name": "stdout",
     "output_type": "stream",
     "text": [
      "   gender   age  hypertension  heart_disease smoking_history    bmi  \\\n",
      "0  Female  80.0             0              1           never  25.19   \n",
      "1  Female  54.0             0              0         No Info  27.32   \n",
      "2    Male  28.0             0              0           never  27.32   \n",
      "3  Female  36.0             0              0         current  23.45   \n",
      "4    Male  76.0             1              1         current  20.14   \n",
      "\n",
      "   HbA1c_level  blood_glucose_level  diabetes  \n",
      "0          6.6                  140         0  \n",
      "1          6.6                   80         0  \n",
      "2          5.7                  158         0  \n",
      "3          5.0                  155         0  \n",
      "4          4.8                  155         0  \n",
      "Index(['gender', 'age', 'hypertension', 'heart_disease', 'smoking_history',\n",
      "       'bmi', 'HbA1c_level', 'blood_glucose_level', 'diabetes'],\n",
      "      dtype='object')\n",
      "df patient total - 100000\n"
     ]
    }
   ],
   "source": [
    "import pandas as pd \n",
    "\n",
    "df = pd.read_csv('diabetes_prediction_dataset.csv')\n",
    "print(df.head())\n",
    "print(df.columns)\n",
    "print(\"df patient total -\",len(df))\n"
   ]
  },
  {
   "cell_type": "markdown",
   "id": "2ac61eaf-8d5a-4889-8c9a-624aeefc511d",
   "metadata": {},
   "source": [
    "How many patients are in this dataset? What are features of the patients?"
   ]
  },
  {
   "cell_type": "markdown",
   "id": "bc156a61-260e-401d-a92d-d80a0016be0b",
   "metadata": {},
   "source": [
    "<font size=6 color=\"#009600\">&#9998;</font> 100000 patients. features are 'gender', 'age', 'hypertension', 'heart_disease', 'smoking_history',\n",
    "       'bmi', 'HbA1c_level', 'blood_glucose_level', 'diabetes'"
   ]
  },
  {
   "cell_type": "markdown",
   "id": "82b0e656-57ad-4757-b1c5-fa51c9aef9f9",
   "metadata": {},
   "source": [
    "### Use your perceptron class built in Day18 and Day19 assignments to classify whether patients are diabetic.\n",
    "\n",
    "* You should see that there are some features that are non-numerics.\n",
    "* The first one is `gender`. Find the types of classes and convert them to numerics in your dataframe.\n",
    "* The second one is `smoking_history`, convert those string labels to numerics.\n",
    "* Note that since perceptron is a binary classifier, which only determines which side of the dividing line the data points reside, we should also convert the labels to `+1` and `-1`.\n",
    "* Completing data conversion gets **5 pt**."
   ]
  },
  {
   "cell_type": "code",
   "execution_count": 15,
   "id": "4af4a995-58a7-4478-9e3e-b805ab21779f",
   "metadata": {},
   "outputs": [
    {
     "data": {
      "text/plain": [
       "'df[\\'gender\\'] = df[\\'gender\\'].str.strip().str.title()\\ndf[\\'smoking_history\\'] = df[\\'smoking_history\\'].str.strip().str.lower()\\n\\n#changing gender to numerical values\\ndf[\\'gender\\'] = df[\\'gender\\'].map({\\'Male\\': 0, \\'Female\\': 1, \\'Other\\': 2})\\n\\n#changing smoking history to numerical values \\ndf[\\'smoking_history\\'] = df[\\'smoking_history\\'].map({\\n    \\'never\\': 0,\\n    \\'No Info\\': 1,\\n    \\'former\\': 2,\\n    \\'current\\': 3,\\n    \\'not current\\': 4,\\n    \\'ever\\': 5\\n})\\n#changing diabetes from 0,1 to respectivly -1,+1\\ndf[\\'diabetes\\'] = df[\\'diabetes\\'].map({0: -1, 1: +1})\\n\\nused chat gpt 4.0mini to teach me how to use .map for adjusting values to be numerical,\\nas well as changing numerical values to different values.\\n\\n\"How do I change values that a words in a dataframe to be numerical in python. 4/23/25\"\\n\\nprint(df[[\\'gender\\', \\'smoking_history\\', \\'diabetes\\']].head())\\nprint(df.isnull().sum())  # Check for any NaNs introduced during mapping\\n\\n I was having \"errors\" because everything was nan, I pasted the issue into chat gpt, above is the outcome\\n4/23/25\\n\\n#Chat gpt recomended useing \"strip\" functions to clean the data.\\n\\n#TRASHING ALL CODE ABOVE... ONLY KEEPING HERE TO SHOW MY STRUGGLE ... \\n'"
      ]
     },
     "execution_count": 15,
     "metadata": {},
     "output_type": "execute_result"
    }
   ],
   "source": [
    "'''df['gender'] = df['gender'].str.strip().str.title()\n",
    "df['smoking_history'] = df['smoking_history'].str.strip().str.lower()\n",
    "\n",
    "#changing gender to numerical values\n",
    "df['gender'] = df['gender'].map({'Male': 0, 'Female': 1, 'Other': 2})\n",
    "\n",
    "#changing smoking history to numerical values \n",
    "df['smoking_history'] = df['smoking_history'].map({\n",
    "    'never': 0,\n",
    "    'No Info': 1,\n",
    "    'former': 2,\n",
    "    'current': 3,\n",
    "    'not current': 4,\n",
    "    'ever': 5\n",
    "})\n",
    "#changing diabetes from 0,1 to respectivly -1,+1\n",
    "df['diabetes'] = df['diabetes'].map({0: -1, 1: +1})\n",
    "\n",
    "used chat gpt 4.0mini to teach me how to use .map for adjusting values to be numerical,\n",
    "as well as changing numerical values to different values.\n",
    "\n",
    "\"How do I change values that a words in a dataframe to be numerical in python. 4/23/25\"\n",
    "\n",
    "print(df[['gender', 'smoking_history', 'diabetes']].head())\n",
    "print(df.isnull().sum())  # Check for any NaNs introduced during mapping\n",
    "\n",
    " I was having \"errors\" because everything was nan, I pasted the issue into chat gpt, above is the outcome\n",
    "4/23/25\n",
    "\n",
    "#Chat gpt recomended useing \"strip\" functions to clean the data.\n",
    "\n",
    "#TRASHING ALL CODE ABOVE... ONLY KEEPING HERE TO SHOW MY STRUGGLE ... \n",
    "'''"
   ]
  },
  {
   "cell_type": "code",
   "execution_count": 16,
   "id": "dfe33bff-cccc-4fc6-b483-076963e16cc4",
   "metadata": {},
   "outputs": [
    {
     "name": "stdout",
     "output_type": "stream",
     "text": [
      "gender: [0 1 2]\n",
      "smoking_history: [0 1 2 3 4 5]\n",
      "diabetes: [-1  1]\n"
     ]
    }
   ],
   "source": [
    "#changing gender to numerical values\n",
    "df['gender'] = df['gender'].map({\n",
    "    'Female': 0,\n",
    "    'Male': 1,\n",
    "    'Other': 2\n",
    "})\n",
    "\n",
    "#changing smoking_history to numerical values\n",
    "df['smoking_history'] = df['smoking_history'].map({\n",
    "    'never': 0,\n",
    "    'No Info': 1,\n",
    "    'current': 2,\n",
    "    'former': 3,\n",
    "    'ever': 4,\n",
    "    'not current': 5\n",
    "})\n",
    "\n",
    "#changing diabetes from 0,1 to -1,+1\n",
    "df['diabetes'] = df['diabetes'].map({0: -1, 1: +1})\n",
    "\n",
    "#this idea is from above asked from chat gpt during problem solving to fix this.\n",
    "print(\"gender:\", df['gender'].unique())\n",
    "print(\"smoking_history:\", df['smoking_history'].unique())\n",
    "print(\"diabetes:\", df['diabetes'].unique())"
   ]
  },
  {
   "cell_type": "markdown",
   "id": "88d2245b-3a9e-4b17-a5e3-b2d8365034db",
   "metadata": {},
   "source": [
    "### Now all feature varilables are numerics.\n",
    "\n",
    "### &#128721; STOP (1 Point)\n",
    "**Pause, save and commit your changes to your Git repository!**\n",
    "\n",
    "Take a moment to save your notebook, commit the changes to your Git repository with a meaningful commit message.\n",
    "\n",
    "\n",
    "\n",
    "---\n",
    "\n",
    "## 2.2 Binary perceptron classifier\n",
    "\n",
    "Copy your perceptron class to the cell below. \n",
    "\n",
    "* DO NOT use the one from statsmodel. We want to test the perceptron you built.\n",
    "* Note that your predict method should output `+1` or `-1` for positive or negative values, respectively.\n",
    "* A functional perceptron classifier gets **4 pt**."
   ]
  },
  {
   "cell_type": "code",
   "execution_count": 17,
   "id": "22f7672c-5fc3-4c4f-8d06-ec88508c81e9",
   "metadata": {},
   "outputs": [],
   "source": [
    "import numpy as np\n",
    "\n",
    "#I had to change this from the inclass day 18/19 because after further understanding it was not working AT ALL\n",
    "\n",
    "class Perceptron:\n",
    "    def __init__(self, learning_rate=0.01, n_iters=1000):\n",
    "        self.lr = learning_rate\n",
    "        self.n_iters = n_iters\n",
    "        self.activation_func = self._unit_step\n",
    "        self.weights = None\n",
    "        self.bias = None\n",
    "\n",
    "    def fit(self, x, y):\n",
    "        n_samples, n_features = x.shape\n",
    "        self.weights = np.zeros(n_features)\n",
    "        self.bias = 0\n",
    "\n",
    "        #making arrays out of int\n",
    "        y_ = np.array(y)\n",
    "\n",
    "        for _ in range(self.n_iters):\n",
    "            for idx, x_i in enumerate(x):\n",
    "                linear_output = np.dot(x_i, self.weights) + self.bias\n",
    "                y_predicted = self.activation_func(linear_output)\n",
    "\n",
    "                #updating slope per iteration\n",
    "                update = self.lr * (y_[idx] - y_predicted)\n",
    "                self.weights += update * x_i\n",
    "                self.bias += update\n",
    "\n",
    "    def predict(self, x):\n",
    "        linear_output = np.dot(x, self.weights) + self.bias\n",
    "        return self.activation_func(linear_output)\n",
    "\n",
    "    def _unit_step(self, x):\n",
    "        return np.where(x >= 0, 1, -1)\n"
   ]
  },
  {
   "cell_type": "markdown",
   "id": "c38cf279-13af-4402-94c4-2c418d3d97a5",
   "metadata": {},
   "source": [
    "* Split data to 70-30 train-test sets **1 pt**.\n",
    "* Train your perceptron.\n",
    "* Show the accuracy of your pereptron **2 pt**."
   ]
  },
  {
   "cell_type": "code",
   "execution_count": 18,
   "id": "7986537a-e054-4286-91a4-9ba639e3c53d",
   "metadata": {},
   "outputs": [],
   "source": [
    "from sklearn.model_selection import train_test_split\n",
    "#setting the x and y, dropping diabetes \n",
    "x = df.drop(columns=['diabetes']).values\n",
    "y = df['diabetes'].values\n",
    "\n",
    "# Split into 70% train, 30% test\n",
    "x_train, x_test, y_train, y_test = train_test_split(x, y, test_size=0.3, random_state=11)\n"
   ]
  },
  {
   "cell_type": "markdown",
   "id": "22521abe-9552-41ec-8512-6995a7245ed7",
   "metadata": {},
   "source": [
    "* Use test set to evaulate the accuracy of your perceptron. What is your accuracy? (**2 pt**)"
   ]
  },
  {
   "cell_type": "code",
   "execution_count": 19,
   "id": "3f6dd4c5-7bc1-4e9b-83e4-0417543b52d3",
   "metadata": {},
   "outputs": [
    {
     "name": "stdout",
     "output_type": "stream",
     "text": [
      "Accuracy on 100 iterations: 0.5553\n"
     ]
    }
   ],
   "source": [
    "model = Perceptron(learning_rate=0.01, n_iters=100) #using the model with 100 iterations\n",
    "model.fit(x_train, y_train) #fitting the model\n",
    "\n",
    "predictions = model.predict(x_test)\n",
    "accuracy = np.mean(predictions == y_test)\n",
    "\n",
    "print(\"Accuracy on 100 iterations:\", accuracy)\n"
   ]
  },
  {
   "cell_type": "markdown",
   "id": "bf59cd13-1358-48ad-a11c-2371277e0b55",
   "metadata": {},
   "source": [
    "* There may be some ways to increase the accruacy, such as increasing the number of train iterations or adjust learning rate. Give a try to train a perceptron you can best get. Record the values of parameters and the optimal accuracy. (**3 pt**)\n"
   ]
  },
  {
   "cell_type": "code",
   "execution_count": 20,
   "id": "3498a824-d111-451e-9119-6f85964bca45",
   "metadata": {},
   "outputs": [
    {
     "name": "stdout",
     "output_type": "stream",
     "text": [
      "Accuracy on 500 iterations: 0.9346333333333333\n"
     ]
    }
   ],
   "source": [
    "''' the accuracy on 10 iterations was .23\n",
    "the accuracy on 100 iterations was 0.5553'''\n",
    "#i'm going to run it on 500 iterations with 0.05 learning rate. my computer takes forever so I can't maximize it more\n",
    "\n",
    "model = Perceptron(learning_rate=0.05, n_iters=500) #using the model with 500 iterations changed rate to 0.05 cause it took too long\n",
    "model.fit(x_train, y_train) #fitting the model\n",
    "\n",
    "predictions = model.predict(x_test)\n",
    "accuracy = np.mean(predictions == y_test)\n",
    "\n",
    "print(\"Accuracy on 500 iterations:\", accuracy)\n",
    "print(\"I got a 93.46 % accuracy, I know I could get higher but my omputer took 5.1 minutes to make this load\")"
   ]
  },
  {
   "cell_type": "markdown",
   "id": "41900123-9fa6-4dbb-81de-0b90edc3d9e5",
   "metadata": {},
   "source": [
    "### &#128721; STOP (1 Point)\n",
    "**Pause, save and commit your changes to your Git repository!**\n",
    "\n",
    "Take a moment to save your notebook, commit the changes to your Git repository with a meaningful commit message.\n",
    "\n",
    "---\n",
    "\n",
    "### 2.3 Next we shall test perceptron's capability of multiple-label classification.\n",
    "\n",
    "* Dowdload the dataset from `https://raw.githubusercontent.com/huichiayu/cmse202-s25-supllemental_data/refs/heads/main/HW04/Telecust1.csv`.\n",
    "* This is a customer category dataset (Kraggle/Customer Classification). Each cusmtoer has several feature variables.\n",
    "* There are five categories of customers, which are non-numerics. Thus, let's convert those string labels to numerics.\n",
    "* Successful data load-up gets **2 pt**."
   ]
  },
  {
   "cell_type": "code",
   "execution_count": 33,
   "id": "2f57127a-9d83-4408-a18d-8adfb800eb2f",
   "metadata": {},
   "outputs": [
    {
     "name": "stdout",
     "output_type": "stream",
     "text": [
      "   region  tenure  age  income  marital  address  ed  employ  retire  gender  \\\n",
      "0       2      13   44      64        1        9   4       5       0       0   \n",
      "1       3      11   33     136        1        7   5       5       0       0   \n",
      "2       3      68   52     116        1       24   1      29       0       1   \n",
      "3       2      33   33      33        0       12   2       0       0       1   \n",
      "4       2      23   30      30        1        9   1       2       0       0   \n",
      "\n",
      "   reside custcat  \n",
      "0       2       A  \n",
      "1       6       D  \n",
      "2       2       C  \n",
      "3       1       A  \n",
      "4       4       C  \n",
      "region      int64\n",
      "tenure      int64\n",
      "age         int64\n",
      "income      int64\n",
      "marital     int64\n",
      "address     int64\n",
      "ed          int64\n",
      "employ      int64\n",
      "retire      int64\n",
      "gender      int64\n",
      "reside      int64\n",
      "custcat    object\n",
      "dtype: object\n",
      "region       3\n",
      "tenure      72\n",
      "age         60\n",
      "income     218\n",
      "marital      2\n",
      "address     50\n",
      "ed           5\n",
      "employ      46\n",
      "retire       2\n",
      "gender       2\n",
      "reside       8\n",
      "custcat      4\n",
      "dtype: int64\n",
      "0    1\n",
      "1    4\n",
      "2    3\n",
      "3    1\n",
      "4    3\n",
      "Name: custcat, dtype: int64\n"
     ]
    }
   ],
   "source": [
    "# Download and load the dataset. Convert non-numerical labels to numerics.\n",
    "# put your code here\n",
    "df2 = pd.read_csv(\"Telecust1.csv\")\n",
    "print(df2.head())\n",
    "print(df2.dtypes) \n",
    "print(df2.nunique()) \n",
    "\n",
    "#changing letters to numerical values \n",
    "df2['custcat'] = df2['custcat'].map({\n",
    "    'A': 1,\n",
    "    'B': 2,\n",
    "    'C': 3,\n",
    "    'D': 4,\n",
    "})\n",
    "\n",
    "#checking head for custcat \n",
    "print(df2['custcat'].head())\n"
   ]
  },
  {
   "cell_type": "markdown",
   "id": "ffcab03b-57fb-4268-81dc-e72281bfceb1",
   "metadata": {},
   "source": [
    "---\n",
    "### 2.4 Multi-label perceptron classification\n",
    "\n",
    "* As we know, perceptron is a binary classifier. For multiple-label classification, we can use One-vs-Rest (OvR) Strategy.\n",
    "* In this case, let's train five individual perceptrons. \n",
    "* For each classifier, it treats the current class as \"positive\" and all others as \"negative.\"\n",
    "* When classifying a new sample, each classifier gives a \"score,\" and the class with the highest score is chosen.\n",
    "\n",
    "Copy your perceptron to the code cell below. We need to add a score method, which outputs dot of weights and features, as opposed to the previous binary predict method. The score method should output a signed floating score value, not `+1` or `-1`. This can be done by removing the binary segmenting, i.e., directly outputing the dot value.\n",
    "\n",
    "* Functioning score() method gets **2 pt**."
   ]
  },
  {
   "cell_type": "code",
   "execution_count": 34,
   "id": "f7996b89-84fb-4272-9c30-c5293a97455b",
   "metadata": {},
   "outputs": [],
   "source": [
    "# put your modified perceptron class here\n",
    "class Perceptron:\n",
    "    def __init__(self, learning_rate=0.01, n_iters=1000):\n",
    "        self.lr = learning_rate\n",
    "        self.n_iters = n_iters\n",
    "        self.activation_func = self._unit_step\n",
    "        self.weights = None\n",
    "        self.bias = None\n",
    "\n",
    "    def fit(self, x, y):\n",
    "        n_samples, n_features = x.shape\n",
    "        self.weights = np.zeros(n_features)\n",
    "        self.bias = 0\n",
    "\n",
    "        #making arrays out of int\n",
    "        y_ = np.array(y)\n",
    "\n",
    "        for _ in range(self.n_iters):\n",
    "            for idx, x_i in enumerate(x):\n",
    "                linear_output = np.dot(x_i, self.weights) + self.bias\n",
    "                y_predicted = self.activation_func(linear_output)\n",
    "\n",
    "                #updating slope per iteration\n",
    "                update = self.lr * (y_[idx] - y_predicted)\n",
    "                self.weights += update * x_i\n",
    "                self.bias += update\n",
    "\n",
    "    def predict(self, x):\n",
    "        linear_output = np.dot(x, self.weights) + self.bias\n",
    "        return self.activation_func(linear_output)\n",
    "\n",
    "    def _unit_step(self, x):\n",
    "        return np.where(x >= 0, 1, -1)\n",
    "        \n",
    "#anything above is copied from above section\n",
    "    def score(self, x): #this is the new code \n",
    "            return np.dot(x, self.weights) + self.bias"
   ]
  },
  {
   "cell_type": "markdown",
   "id": "395e1e42-e58d-49c5-a7ce-bdbb9f8e3d50",
   "metadata": {},
   "source": [
    "* Now let's do a train-test split of the data with a test_size = 0.3.\n",
    "* Since we are training 5 perceptrons, we should have have 5 class label sets. For instance, in the label set for category A, the label value will be `+1` if it's type A and otherwise `-1`.\n",
    "* Setting label sets gets **4 pt**."
   ]
  },
  {
   "cell_type": "code",
   "execution_count": 39,
   "id": "e59a1422-8984-49b8-889e-e34c6172e8f6",
   "metadata": {},
   "outputs": [],
   "source": [
    "#setting values for features\n",
    "x = df2.drop(columns=['custcat']).values\n",
    "y = df2['custcat'].values\n",
    "\n",
    "#splitting test to .30 and train to .70 (like above)\n",
    "x_train, x_test, y_train, y_test = train_test_split(x, y, test_size=0.3, random_state=11)\n",
    "\n",
    "#making variable for the different values in ytrain lists\n",
    "class_labels = np.unique(y_train)\n",
    "\n",
    "#creating dictionary lists for labels (One vs rest strat)\n",
    "y_train_ovr = {}\n",
    "y_test_ovr = {}\n",
    "\n",
    "for label in class_labels: # used chatgpt 4.0 mini 4/24/25 \"how do I set a label (ovr method) using different perceptrons for the targets values to be used in perceptron model\".\n",
    "    y_train_ovr[label] = np.where(y_train == label, 1, -1)\n",
    "    y_test_ovr[label] = np.where(y_test == label, 1, -1)\n",
    "\n"
   ]
  },
  {
   "cell_type": "markdown",
   "id": "5245187a-3ed6-4cc4-a844-7fd0493707c9",
   "metadata": {},
   "source": [
    "* Use training set and the 5 training label sets to train your 5 perceptrons. Report the accuracy of those five training.\n",
    "* Efficiently train the five perceptrons using nest loop gets **5 pt**.\n"
   ]
  },
  {
   "cell_type": "code",
   "execution_count": 41,
   "id": "be107995-7f86-48d8-b24a-d3f3ed8b9e62",
   "metadata": {},
   "outputs": [
    {
     "name": "stdout",
     "output_type": "stream",
     "text": [
      "Class 1 OvR training accuracy: 0.7129\n",
      "Class 2 OvR training accuracy: 0.8014\n",
      "Class 3 OvR training accuracy: 0.6186\n",
      "Class 4 OvR training accuracy: 0.7086\n"
     ]
    }
   ],
   "source": [
    "#dictionary to store each perceptron\n",
    "perceptrons = {}\n",
    "#dictionary to store each accuracy after trained \n",
    "train_accuracies = {}\n",
    "\n",
    "#looping through perceptrons using the different labels in cell above\n",
    "for label in class_labels:\n",
    "    #initialize model variable and fitting data to perceptron [parameters]\n",
    "    model = Perceptron(learning_rate=0.01, n_iters=1000)\n",
    "    model.fit(x_train, y_train_ovr[label])\n",
    "\n",
    "    #setting the loop label (aka 1,2,3 or 4) to the perceptron model parameters above\n",
    "    perceptrons[label] = model\n",
    "    #where prediction is made using training model data (from perceptrons class)\n",
    "    predictions = model.predict(x_train)\n",
    "\n",
    "    #getting avg accuracy\n",
    "    accuracy = np.mean(predictions == y_train_ovr[label])\n",
    "    train_accuracies[label] = accuracy\n",
    "    print(f\"Class {label} OvR training accuracy: {accuracy:.4f}\")\n",
    "\n"
   ]
  },
  {
   "cell_type": "markdown",
   "id": "3e550cc5-fbc2-42a2-8713-881783f2c7f9",
   "metadata": {},
   "source": [
    "* Use the test vector to examine the accuracy.\n",
    "* For each feature set, there should be 5 output scores, each from a perceptron. The predicted label should be the label that corresponds to the highest score.\n",
    "* Report your accuracy. (**3 pt**)"
   ]
  },
  {
   "cell_type": "code",
   "execution_count": 44,
   "id": "1e549131-9459-437b-b627-bc99e0fa93cf",
   "metadata": {},
   "outputs": [
    {
     "name": "stdout",
     "output_type": "stream",
     "text": [
      "accuracy of multiple class classification in OvR perceptron: 0.34\n"
     ]
    },
    {
     "data": {
      "text/plain": [
       "' I used chat gpt for making the two lines above the print statement, 4/24/25 it took many chats back\\nand forth with chat but here are how the questions went... \"how do i compare scores between multiple perceptrons of accuracy to actual data in a testing data set\" and it showed me to make a list for saving the data.\\n\"how do change this code [insert my code] to take the max value in a dictionary, but not take the index take the actual data value?\"\\n'"
      ]
     },
     "execution_count": 44,
     "metadata": {},
     "output_type": "execute_result"
    }
   ],
   "source": [
    "#list to score scores\n",
    "all_scores = []\n",
    "\n",
    "for i in range(len(x_test)):\n",
    "    scores = {}\n",
    "    for label in class_labels: #loop for going through each label of perceptron and taking the score for each x in test data\n",
    "        score = perceptrons[label].score(x_test[i])\n",
    "        scores[label] = score\n",
    "    all_scores.append(scores)\n",
    "\n",
    "#taking the highest value prediction out of all the perceptrons for each test \n",
    "predicted_labels = [max(score_dict, key=score_dict.get) for score_dict in all_scores]\n",
    "\n",
    "#comparing the accuracy of prediction to actual data\n",
    "multi_class_accuracy = np.mean(predicted_labels == y_test)\n",
    "\n",
    "print(\"accuracy of multiple class classification in OvR perceptron:\", multi_class_accuracy)\n",
    "\n",
    "''' I used chat gpt for making the two lines above the print statement, 4/24/25 it took many chats back\n",
    "and forth with chat but here are how the questions went... \"how do i compare scores between multiple perceptrons of accuracy to actual data in a testing data set\" and it showed me to make a list for saving the data.\n",
    "\"how do change this code [insert my code] to take the max value in a dictionary, but not take the index take the actual data value?\"\n",
    "'''\n"
   ]
  },
  {
   "cell_type": "markdown",
   "id": "fd31084b-0308-4fd0-b912-bf42f13ee674",
   "metadata": {},
   "source": [
    "How good is your multiple-label perceptron classification?"
   ]
  },
  {
   "cell_type": "markdown",
   "id": "c598a593-aac1-48b7-b634-f6c046f256f3",
   "metadata": {},
   "source": [
    "<font size=6 color=\"#009600\">&#9998;</font> I wouldn't say it was phenominal but it is a start, 34% accuracy is actually not good at all, but it is a good start and could be expanded to become better. "
   ]
  },
  {
   "cell_type": "markdown",
   "id": "c08b1bce-e2ce-4bd4-ae8e-9aca6d76a163",
   "metadata": {},
   "source": [
    "\n",
    "### &#128721; STOP (1 Point)\n",
    "**Pause, save and commit your changes to your Git repository!**\n",
    "\n",
    "Take a moment to save your notebook, commit the changes to your Git repository with a meaningful commit message.\n",
    "\n",
    "---\n",
    "## Part 3 SVM classifiers (19 points)\n",
    "\n",
    "### 3.1 SVM \n",
    "\n",
    "Let's re-use the customer category data. There are five caterogies with multiple feature variables.\n",
    "\n",
    "* Use sklearn library to build a SVM classifier. Since we do not know what the best parametes are, perform a GridSearch for best parameters.\n",
    "* NOTE: Because the dataset contains a large number of points, it's expected to have a long computer running time for GridSearch. Thus, let's use only the first 200 data points for GridSearch. You can start the grid search parameter like the image below. However, **NOTE** that if the kernal used cannot find a hyperplane to classify data points, the GridSearch function will stall. You need to manually remove that kernal from the parameter set and re-run GridSearch.\n",
    "  \n",
    "<img src=\"https://i.ibb.co/JWrp6c4q/Grid-Search-Param.png\" width=\"650\">\n",
    "\n",
    "\n",
    "* As in the previous section, make a 70-30 train-test split and train your SVM classifier.\n",
    "* Complete GridSearch to extract best parameters gets **5 pt**."
   ]
  },
  {
   "cell_type": "code",
   "execution_count": 46,
   "id": "eb83c8b3-cc1b-4fa6-a2f7-f627339586d8",
   "metadata": {},
   "outputs": [
    {
     "name": "stdout",
     "output_type": "stream",
     "text": [
      "Best parameters found by GridSearch: {'C': 1.0, 'gamma': 0.0001, 'kernel': 'linear'}\n",
      "accuracy with best parameters: 0.4\n"
     ]
    }
   ],
   "source": [
    "from sklearn.svm import SVC\n",
    "from sklearn.model_selection import GridSearchCV\n",
    "from sklearn.metrics import accuracy_score\n",
    "\n",
    "#using only first 200 datapoints \n",
    "x_subset = df2.drop(columns=['custcat']).values[:200]\n",
    "y_subset = df2['custcat'].values[:200]\n",
    "\n",
    "#.30 testing .70 training for subset data \n",
    "x_train_svm, x_test_svm, y_train_svm, y_test_svm = train_test_split(x_subset, y_subset, test_size=0.3, random_state=11)\n",
    "\n",
    "#finding the best parameters (complete gridsearch)\n",
    "param_grid = {\n",
    "    'C': [1e-2, 1e-1, 1e0, 1e1],\n",
    "    'gamma': [1e-4, 0.001, 0.01, 0.1, 1],\n",
    "    'kernel': ['linear', 'sigmoid', 'rbf']\n",
    "}\n",
    "\n",
    "#make clf vaiable for running gridsearch under balanced wiehgt, as well as fitting the training datat to the new variable funciton \n",
    "clf = GridSearchCV(SVC(class_weight='balanced'), param_grid)\n",
    "clf.fit(x_train_svm, y_train_svm)\n",
    "\n",
    "print(\"Best parameters found by GridSearch:\", clf.best_params_) #used chat gpt 4.0 4/24/25 \"here is my code [insert 2 sentences above] how do I know which of these are the best outputs when they are found in a gridsearch?\"\n",
    "y_pred_svm = clf.predict(x_test_svm)\n",
    "accuracy = accuracy_score(y_test_svm, y_pred_svm)\n",
    "print(\"accuracy with best parameters:\", accuracy)\n",
    "\n",
    "\n"
   ]
  },
  {
   "cell_type": "markdown",
   "id": "af730354-6eee-40f2-9a19-a20c8be0f3db",
   "metadata": {},
   "source": [
    "* Examine the accuracy of this SVC and report the accuracy. Draw a confusion matrix. **2 pt**"
   ]
  },
  {
   "cell_type": "code",
   "execution_count": 53,
   "id": "527b7f0b-97b1-474f-b0b0-09574d54a6f9",
   "metadata": {},
   "outputs": [
    {
     "name": "stdout",
     "output_type": "stream",
     "text": [
      "accuracy with best parameters: 0.4\n"
     ]
    },
    {
     "data": {
      "text/plain": [
       "<Figure size 600x600 with 0 Axes>"
      ]
     },
     "metadata": {},
     "output_type": "display_data"
    },
    {
     "data": {
      "image/png": "[encoded data removed]",
      "text/plain": [
       "<Figure size 640x480 with 2 Axes>"
      ]
     },
     "metadata": {},
     "output_type": "display_data"
    }
   ],
   "source": [
    "from sklearn.metrics import confusion_matrix, ConfusionMatrixDisplay\n",
    "\n",
    "#accuracy is taken from above\n",
    "print(\"accuracy with best parameters:\", accuracy)\n",
    "\n",
    "best_svc = clf.best_estimator_ #used chat gpt \"how do i pull the best estimation used\" 4/24/25\n",
    "y_pred = best_svc.predict(x_test_svm)\n",
    "\n",
    "#paramters for the confusion matrix \n",
    "cm = confusion_matrix(y_test_svm, y_pred, labels=best_svc.classes_)\n",
    "disp = ConfusionMatrixDisplay(confusion_matrix=cm, display_labels=best_svc.classes_)\n",
    "\n",
    "#plotting\n",
    "plt.figure(figsize=(6, 6))\n",
    "disp.plot(cmap='Blues')\n",
    "plt.title(\"Confusion Matrix: SVM Classifier\")\n",
    "plt.show()\n"
   ]
  },
  {
   "cell_type": "markdown",
   "id": "baf396ba-1d88-4d14-8771-210dc41fcbcf",
   "metadata": {},
   "source": [
    "Does SVM classifier work much better than your percetron?"
   ]
  },
  {
   "cell_type": "markdown",
   "id": "81488c96-0326-408f-aed9-d956ee068d65",
   "metadata": {},
   "source": [
    "<font size=6 color=\"#009600\">&#9998;</font> I would say it works better as in .08% higher accuracy but also atleast for my computer was much faster than training the perceptron."
   ]
  },
  {
   "cell_type": "markdown",
   "id": "5cf5af1a-7950-4356-bc42-29c41b31c03d",
   "metadata": {},
   "source": [
    "### &#128721; STOP (1 Point)\n",
    "**Pause, save and commit your changes to your Git repository!**\n",
    "\n",
    "Take a moment to save your notebook, commit the changes to your Git repository with a meaningful commit message.\n",
    "\n",
    "---\n",
    "### 3.2 PCA \n",
    "\n",
    "Although we only have 11 feature variables in the dataset, let's examine how much principal component analysis (PCA) can accelerate the classification. We will increase the PCA components from 1 to 11. For each case, we will perform a GridSearch and use test set to examine the accuracy. \n",
    "\n",
    "* Write a code to loop over n_components = 1 through 11. **4 pt**\n",
    "* Record the accuracy of each case and plot the profile of accuracy versus n_components. In the mean time, record the computer run times and plot the profile of time versus n_components. **2 pt**\n",
    "\n",
    "\n"
   ]
  },
  {
   "cell_type": "code",
   "execution_count": null,
   "id": "6cb7c31b-cc0f-4ce7-9156-cc1207b26186",
   "metadata": {},
   "outputs": [],
   "source": [
    "# put your code here\n",
    "\n"
   ]
  },
  {
   "cell_type": "markdown",
   "id": "79f02dd4-9ad8-416f-8324-cede07489a0a",
   "metadata": {},
   "source": [
    "Please answer the following questions. \n",
    "* How is the overall accuracy of this SVM classifier?  **1 pt**\n",
    "* If the performance is not good, what do you think the cause is? **2 pt**"
   ]
  },
  {
   "cell_type": "markdown",
   "id": "bcb5f56b-173e-4013-9ccb-cd717aaf2524",
   "metadata": {},
   "source": [
    "<font size=6 color=\"#009600\">&#9998;</font> Put your answer here"
   ]
  },
  {
   "cell_type": "markdown",
   "id": "c7ccaefe-5020-42f3-8d1b-2359bcdb535d",
   "metadata": {},
   "source": [
    "* Describe the curves of time vs n_components and accuracy vs n_components. **1 pt**\n",
    "* Explain why the curves behave as they are in the figures **2 pt**"
   ]
  },
  {
   "cell_type": "markdown",
   "id": "43066ffe-1bdb-4c50-b4dd-ecec5287fc64",
   "metadata": {},
   "source": [
    "<font size=6 color=\"#009600\">&#9998;</font> Put your answer here"
   ]
  },
  {
   "cell_type": "markdown",
   "id": "2c10fcb2-8d8b-4e2f-a9fe-5b998e646114",
   "metadata": {},
   "source": [
    "### &#128721; STOP (1 Point)\n",
    "**Pause, save and commit your FINAL changes to your Git repository!**\n",
    "\n",
    "Take a moment to save your notebook, commit the changes to your Git repository with a meaningful commit message.\n",
    "\n",
    "\n",
    "\n",
    "---\n",
    "## Assignment wrap-up\n",
    "\n",
    "\n",
    "Please fill out the form that appears when you run the code below.  **You must completely fill this out in order to receive credit for the assignment!**\n",
    "\n"
   ]
  },
  {
   "cell_type": "code",
   "execution_count": null,
   "id": "8daa2c83-4226-47d8-ad62-0a15001b3261",
   "metadata": {},
   "outputs": [],
   "source": [
    "from IPython.display import HTML\n",
    "HTML(\n",
    "\"\"\"\n",
    "<iframe \n",
    "\tsrc=\"https://forms.office.com/r/mB0YjLYvAA\" \n",
    "\twidth=\"800px\" \n",
    "\theight=\"600px\" \n",
    "\tframeborder=\"0\" \n",
    "\tmarginheight=\"0\" \n",
    "\tmarginwidth=\"0\">\n",
    "\tLoading...\n",
    "</iframe>\n",
    "\"\"\"\n",
    ")"
   ]
  },
  {
   "cell_type": "markdown",
   "id": "ba1f1ca9-1cce-4437-a38d-163b31945d70",
   "metadata": {},
   "source": [
    "## Congratulations, you're done!\n",
    "\n",
    "&#169; Copyright 2025,  Department of Computational Mathematics, Science and Engineering at Michigan State University"
   ]
  },
  {
   "cell_type": "code",
   "execution_count": null,
   "id": "e08ef267-8dfb-4e1c-86b7-d4c4d42d6bde",
   "metadata": {},
   "outputs": [],
   "source": []
  }
 ],
 "metadata": {
  "kernelspec": {
   "display_name": "Python 3.11 (default)",
   "language": "python",
   "name": "python3"
  },
  "language_info": {
   "codemirror_mode": {
    "name": "ipython",
    "version": 3
   },
   "file_extension": ".py",
   "mimetype": "text/x-python",
   "name": "python",
   "nbconvert_exporter": "python",
   "pygments_lexer": "ipython3",
   "version": "3.11.11"
  }
 },
 "nbformat": 4,
 "nbformat_minor": 5
}
