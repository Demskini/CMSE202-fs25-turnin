{
 "cells": [
  {
   "cell_type": "markdown",
   "id": "d70b1917",
   "metadata": {},
   "source": [
    "### <p style=\"text-align: right;\"> &#9989; Nick Demski.</p>\n",
    "### <p style=\"text-align: right;\"> &#9989; Demskini</p>"
   ]
  },
  {
   "cell_type": "markdown",
   "id": "59201064",
   "metadata": {},
   "source": [
    "# CMSE 202 Midterm (Section 001 - SS25)\n",
    "\n",
    "\n",
    "# &#128721; READ EVERYTHING CAREFULLY\n",
    "\n",
    "\n",
    "The goal of this midterm is to give you the opportunity to test out some of the skills that you've developed thus far this semester. In particular, you'll practice setting up a GitHub repository, committing and pushing repository changes, downloading data with command line tools, performing some data analysis, possibly using a new Python package, and writing a python class. You should find that you have all of the skills necessary to complete this exam with even just eight weeks of CMSE 202 under your belt!\n",
    "\n",
    "You are encouraged to look through the entire exam before you get started so that you can appropriately budget your time and understand the broad goals of the exam. Once you've read through it, try doing Parts 1 and 2 first so that you have your repository set up and you download all necessary data files as they will be necessary to complete the assigned tasks. Let your instructor know right away if you have problems downloading the data!\n",
    "\n",
    "The exam is set up so that even if you get stuck on one part there are opportunities to get points on the other parts, so consider jumping ahead if you feel like you aren't making progress and then come back later if you have time.\n",
    "\n",
    "**Important note about using online resources**: This exam is **\"open internet\"**. That means that you can look up documentation, google how to accomplish certain Python tasks, reference and use your in-class assignments, pre-class assignments and homework, etc. Being able to effectively use the internet for computational modeling and data science is a very important skill, so we want to make sure you have the opportunity to exercise that skill. **However**: The use of any person-to-person communication software is absolutely not acceptable. If you are seen accessing your email, using a chat program (e.g. Slack), or any sort of collaborative cloud storage or document software (e.g. Google Documents), you will be at risk for receiving a zero on the exam.\n",
    "\n",
    "**Important Guidelines on AI Tool Usage**\n",
    "\n",
    "This exam allows the use of AI tools (such as ChatGPT, Claude, HiTA) with specific guidelines that mirror real-world professional practices. These tools should enhance your learning and problem-solving process, not replace your intellectual engagement. Here are the key requirements:\n",
    "\n",
    "1. **Appropriate Use of AI**:\n",
    "   - Use AI as a learning assistant to understand concepts, debug code, or get unstuck\n",
    "   - Use AI to improve your solution approach or verify your thinking\n",
    "   - Use AI to learn about new Python packages or functions you might need\n",
    "\n",
    "2. **Prohibited Uses**:\n",
    "   - Direct copying of AI-generated solutions without understanding\n",
    "   - Asking AI to complete entire questions without your intellectual input\n",
    "   - Using AI to modify provided starter code or test cases\n",
    "   - Using AI to circumvent learning objectives or problem requirements\n",
    "\n",
    "3. **Documentation Requirements**:\n",
    "   - You must cite any AI assistance received by adding a comment that includes:\n",
    "     * The AI tool used\n",
    "     * The specific question you asked\n",
    "     * How you modified or improved upon the AI's suggestion\n",
    "   - Example: \"# AI assistance: Used Claude to understand lmfit parameter initialization. Modified the suggested approach to include custom bounds.\"\n",
    "\n",
    "4. **Evaluation Implications**:\n",
    "   - Questions showing signs of direct AI solution copying will receive zero points\n",
    "   - Evidence of not following problem instructions, even if AI-suggested, will result in zero points\n",
    "   - Modified starter code or test cases will result in zero points for that question\n",
    "\n",
    "Remember: The goal is to demonstrate your understanding and problem-solving abilities. AI tools should support your learning, not replace your critical thinking and coding skills.\n",
    "\n",
    "**Note**: Traditional open internet resources (documentation, Stack Overflow, etc.) remain available, but person-to-person communication tools are not permitted.\"\n",
    "\n",
    "**Keep your eyes on your screen!** Unfortunately, there isn't enough space in the room for everyone to sit at their own table so please do your best to keep your eyes on your own screen. This exam is designed to give *you* the opportunity to show the instructor what you can do and you should hold yourself accountable for maintaining a high level of academic integrity. If any of the instructors observe suspicious behavior, you will, again, risk receiving a zero.\n",
    "\n",
    "The maximum number of points is: **88 Points**"
   ]
  },
  {
   "cell_type": "markdown",
   "id": "1134d11f",
   "metadata": {},
   "source": [
    "![star](https://media.giphy.com/media/xT9IgEYXCNqPZnqMuY/giphy.gif?cid=790b761114d73fop8879b63i6lpgjulam3sgmg7gib5vksnd&ep=v1_gifs_search&rid=giphy.gif&ct=g)"
   ]
  },
  {
   "cell_type": "markdown",
   "id": "1f1d868f",
   "metadata": {},
   "source": [
    "## Table of Contents\n",
    "\n",
    "Navigate through the midterm using these links:\n",
    "\n",
    "* [Part 0: Academic integrity statement (1 point)](#part-0-academic-integrity-statement-1-point)\n",
    "* [Part 1: Git and Command Line Interface (9 points)](#part-1-git-and-command-line-interface-9-points)\n",
    "* [Part 2: Working with a less familiar Python package (13 points)](#part-2-working-with-a-less-familiar-python-package-13-points)\n",
    "* [Part 3: Downloading and analyzing unfamiliar data (24 points)](#part-3-downloading-and-analyzing-unfamiliar-data-24-points)\n",
    "* [Part 4: Object-Oriented Programming (38 points)](#part-4-object-oriented-programming-38-points)\n",
    "* [Part 5. Conclusion (3 points)](#part-5-conclusion-3-points)"
   ]
  },
  {
   "cell_type": "markdown",
   "id": "b47a797c",
   "metadata": {},
   "source": [
    "---\n",
    "<a id=\"part-0-academic-integrity-statement-1-point\"></a>\n",
    "\n",
    "# Part 0: Academic integrity statement (1 point)\n",
    "\n",
    "[Back to Table of Contents](#Table-of-Contents)\n",
    "\n",
    "Read the following statement and edit the markdown text to put your name in the statement. This is your commitment to doing your own authentic work on this exam."
   ]
  },
  {
   "cell_type": "markdown",
   "id": "64f82697",
   "metadata": {},
   "source": [
    "> I, **Nick Demski**, affirm that this exam represents my own authetic work, without the use of any unpermitted aids or resources or person-to-person communication. I understand that this exam an an opportunity to showcase my own progress in developing and improving my computational skills and have done my best to demonstrate those skills."
   ]
  },
  {
   "cell_type": "markdown",
   "id": "aade4f33",
   "metadata": {},
   "source": [
    "---\n",
    "<a id=\"part-1-git-and-command-line-interface-9-points\"></a>\n",
    "\n",
    "# Part 1: Git and Command Line Interface (9 points)\n",
    "\n",
    "[Back to Table of Contents](#Table-of-Contents)\n",
    "\n",
    "## Setup Instructions\n",
    "\n",
    "Before starting this section:\n",
    "1. Open a new terminal/powershell/command prompt window\n",
    "2. (Optional) Arrange your screen with this notebook on the left side and the terminal on the right side. This split-screen setup will help you work efficiently between the notebook and terminal\n",
    "\n",
    "**Important**: Even if your terminal opens in the correct directory, you must write out the full commands as if starting from your home directory."
   ]
  },
  {
   "cell_type": "markdown",
   "id": "4757287d",
   "metadata": {},
   "source": [
    "&#9989; **Question 1.1 (2 points)**: Move into your `cmse202-s25-turnin` folder and verify your location. This folder should be the local one you created for your homework on Github. If you do not have this folder, raise your hand and we will help you set it up.\n",
    "\n",
    "Write the commands you used below (minimum 2 lines):"
   ]
  },
  {
   "cell_type": "markdown",
   "id": "efa27a7b",
   "metadata": {
    "question_id": "P1Q1",
    "tags": [
     "student_answer"
    ]
   },
   "source": [
    "**<font size=+3>&#9998;</font> Do This**: *Record your answers here.*"
   ]
  },
  {
   "cell_type": "markdown",
   "id": "2f2207da",
   "metadata": {},
   "source": [
    "&#9989; **Question 1.2 (2 points)**: Create the following directory structure in your repository:\n",
    "```\n",
    "cmse202-s25-turnin/\n",
    "    └── exams/\n",
    "        ├── midterm/\n",
    "        └── final/\n",
    "```\n",
    "Write the commands you used to create these folders:"
   ]
  },
  {
   "cell_type": "markdown",
   "id": "17cec07d",
   "metadata": {
    "question_id": "P1Q2",
    "tags": [
     "student_answer"
    ]
   },
   "source": [
    "**<font size=+3>&#9998;</font> Do This**: *used \"cd\" to change directory to be working the proper directory, then used \"mkdir\" to create directories in the directory that was already chosen for exams, in the exams folder i mkdir a \"midterm\" and a \"final\" directory inside the exams directory. "
   ]
  },
  {
   "cell_type": "markdown",
   "id": "9809047d",
   "metadata": {},
   "source": [
    "&#9989; **Question 1.3 (1 point)**: Write the commands to move this notebook into the `midterm` folder:"
   ]
  },
  {
   "cell_type": "markdown",
   "id": "b7c93a91",
   "metadata": {
    "question_id": "P1Q3",
    "tags": [
     "student_answer"
    ]
   },
   "source": [
    "**<font size=+3>&#9998;</font> Do This**: *I used mv CMSE202-Midterm-Section001-NickDemski.ipynb ~/NickDemski/lab/tree/CMSE202-fs25-turnin/exams/midterm*"
   ]
  },
  {
   "cell_type": "markdown",
   "id": "359a1ad0",
   "metadata": {},
   "source": [
    "&#9989; **Question 1.4 (2 points)**: Check your repository status.\n",
    "\n",
    "Write the command you used:\"git status\""
   ]
  },
  {
   "cell_type": "markdown",
   "id": "32452880",
   "metadata": {
    "question_id": "P1Q4",
    "tags": [
     "student_answer"
    ]
   },
   "source": [
    "**<font size=+3>&#9998;</font> Do This**: *git status.*"
   ]
  },
  {
   "cell_type": "markdown",
   "id": "a407b77c",
   "metadata": {},
   "source": [
    "Paste the output of the command:"
   ]
  },
  {
   "cell_type": "markdown",
   "id": "fefc1655",
   "metadata": {
    "question_id": "P1Q4",
    "tags": [
     "student_answer"
    ]
   },
   "source": [
    "**<font size=+3>&#9998;</font> Do This**: *On branch main\n",
    "Your branch is up to date with 'origin/main'.\n",
    "\n",
    "Changes to be committed:\n",
    "  (use \"git restore --staged <file>...\" to unstage)\n",
    "        deleted:    README.md\n",
    "\n",
    "Untracked files:\n",
    "  (use \"git add <file>...\" to include in what will be committed)\n",
    "        exams/.*"
   ]
  },
  {
   "cell_type": "markdown",
   "id": "29792cc2",
   "metadata": {},
   "source": [
    "&#9989; **Question 1.5 (1 point)**: Do you have any untracked files? Confirm you don't have any untracked files. The only file we want to track is CMSE202-Midterm-Section001-STUDENT. Write down the commands used to either confirm you don't have any untracked files, or the commands you used to track your file."
   ]
  },
  {
   "cell_type": "markdown",
   "id": "94c946d5",
   "metadata": {
    "question_id": "P1Q5",
    "tags": [
     "student_answer"
    ]
   },
   "source": [
    "**<font size=+3>&#9998;</font> Do This**: *yes i have untracked files, to add the filed i used git add CMSE202-Midterm-Section-001-NickDemski.*"
   ]
  },
  {
   "cell_type": "markdown",
   "id": "6899637a",
   "metadata": {},
   "source": [
    "&#9989; **Question 1.6 (1 point)**: Commit your changes with the message \"Committing Part 1 of midterm\" and push to GitHub.\n",
    "\n",
    "Write the commands you used:"
   ]
  },
  {
   "cell_type": "markdown",
   "id": "106bd161",
   "metadata": {
    "question_id": "P1Q6",
    "tags": [
     "student_answer"
    ]
   },
   "source": [
    "**<font size=+3>&#9998;</font> Do This**: *i used: git commit -m \"Commiting part 1 of midterm\"\n",
    "then: git push.*"
   ]
  },
  {
   "cell_type": "markdown",
   "id": "3021170c",
   "metadata": {},
   "source": [
    "**Important**: Double check you've added your Professor and your TA as collaborators to your \"turnin\" respository (you should have done this in the previous homework assignment)"
   ]
  },
  {
   "cell_type": "markdown",
   "id": "990abf6b",
   "metadata": {},
   "source": [
    "**Also important**: Make sure that the version of this notebook that you are working on is the same one that you just added to your repository! If you are working on a different copy of the noteobok, none of your changes will be tracked!"
   ]
  },
  {
   "cell_type": "markdown",
   "id": "b41bfa88",
   "metadata": {},
   "source": [
    "--- \n",
    "<a id=\"part-2-working-with-a-less-familiar-python-package-13-points\"></a>\n",
    "\n",
    "# Part 2: Working with a less familiar Python package (13 points)\n",
    "\n",
    "[Back to Table of Contents](#Table-of-Contents)\n",
    "\n",
    "In this part of the exam you will need to review a bit of documentation from either a Python package that you've explored a bit this semester or a new one.\n",
    "\n",
    "Let's install and use the plotly package"
   ]
  },
  {
   "cell_type": "markdown",
   "id": "5ad13a1b",
   "metadata": {},
   "source": [
    "&#9989; **Question 2.1 (2 points)**: Install the package `plotly` using `pip`. Here is the link to the [documentation]( https://plotly.com/python/)\n"
   ]
  },
  {
   "cell_type": "code",
   "execution_count": 2,
   "id": "7cdc59fe",
   "metadata": {
    "question_id": "P1Q5",
    "tags": [
     "student_answer"
    ]
   },
   "outputs": [
    {
     "data": {
      "text/plain": [
       "'\\npip install plotly\\n'"
      ]
     },
     "execution_count": 2,
     "metadata": {},
     "output_type": "execute_result"
    }
   ],
   "source": [
    "'''\n",
    "pip install plotly\n",
    "'''"
   ]
  },
  {
   "cell_type": "markdown",
   "id": "53fd0b11",
   "metadata": {},
   "source": [
    "&#9989; **Question 2.2 (2 points)**: Load in any dataset of your choice from [here]( https://plotly.com/python-api-reference/generated/plotly.data.html ). Assign this data as the variable \"my_plotly_data\" and then display this data."
   ]
  },
  {
   "cell_type": "code",
   "execution_count": 14,
   "id": "32d1b3d8",
   "metadata": {
    "question_id": "P1Q5",
    "tags": [
     "student_answer"
    ]
   },
   "outputs": [
    {
     "name": "stdout",
     "output_type": "stream",
     "text": [
      "   sepal_length  sepal_width  petal_length  petal_width species  species_id\n",
      "0           5.1          3.5           1.4          0.2  setosa           1\n",
      "1           4.9          3.0           1.4          0.2  setosa           1\n",
      "2           4.7          3.2           1.3          0.2  setosa           1\n",
      "3           4.6          3.1           1.5          0.2  setosa           1\n",
      "4           5.0          3.6           1.4          0.2  setosa           1\n"
     ]
    }
   ],
   "source": [
    "import plotly\n",
    "import pandas as pd\n",
    "\n",
    "my_plotly_data = plotly.data.iris()\n",
    "\n",
    "print(iris_df.head()) #this is displaying the head of data, if you want all data remove .head()\n"
   ]
  },
  {
   "cell_type": "markdown",
   "id": "76e7442e",
   "metadata": {},
   "source": [
    "#### &#9989; **Question 2.3 (6 points)**: Using plotly, create a figure that visualizes your data (or at least some parts of your data). Make sure there are appropriate labels like title, x-axis, and y-axis, etc. "
   ]
  },
  {
   "cell_type": "code",
   "execution_count": 23,
   "id": "cebca85c",
   "metadata": {
    "question_id": "P1Q5",
    "tags": [
     "student_answer"
    ]
   },
   "outputs": [
    {
     "data": {
      "application/vnd.plotly.v1+json": {
       "config": {
        "plotlyServerURL": "https://plot.ly"
       },
       "data": [
        {
         "hovertemplate": "species=setosa<br>sepal_width=%{x}<br>sepal_length=%{y}<extra></extra>",
         "legendgroup": "setosa",
         "marker": {
          "color": "#636efa",
          "symbol": "circle"
         },
         "mode": "markers",
         "name": "setosa",
         "orientation": "v",
         "showlegend": true,
         "type": "scatter",
         "x": [
          3.5,
          3,
          3.2,
          3.1,
          3.6,
          3.9,
          3.4,
          3.4,
          2.9,
          3.1,
          3.7,
          3.4,
          3,
          3,
          4,
          4.4,
          3.9,
          3.5,
          3.8,
          3.8,
          3.4,
          3.7,
          3.6,
          3.3,
          3.4,
          3,
          3.4,
          3.5,
          3.4,
          3.2,
          3.1,
          3.4,
          4.1,
          4.2,
          3.1,
          3.2,
          3.5,
          3.1,
          3,
          3.4,
          3.5,
          2.3,
          3.2,
          3.5,
          3.8,
          3,
          3.8,
          3.2,
          3.7,
          3.3
         ],
         "xaxis": "x",
         "y": [
          5.1,
          4.9,
          4.7,
          4.6,
          5,
          5.4,
          4.6,
          5,
          4.4,
          4.9,
          5.4,
          4.8,
          4.8,
          4.3,
          5.8,
          5.7,
          5.4,
          5.1,
          5.7,
          5.1,
          5.4,
          5.1,
          4.6,
          5.1,
          4.8,
          5,
          5,
          5.2,
          5.2,
          4.7,
          4.8,
          5.4,
          5.2,
          5.5,
          4.9,
          5,
          5.5,
          4.9,
          4.4,
          5.1,
          5,
          4.5,
          4.4,
          5,
          5.1,
          4.8,
          5.1,
          4.6,
          5.3,
          5
         ],
         "yaxis": "y"
        },
        {
         "hovertemplate": "species=versicolor<br>sepal_width=%{x}<br>sepal_length=%{y}<extra></extra>",
         "legendgroup": "versicolor",
         "marker": {
          "color": "#EF553B",
          "symbol": "circle"
         },
         "mode": "markers",
         "name": "versicolor",
         "orientation": "v",
         "showlegend": true,
         "type": "scatter",
         "x": [
          3.2,
          3.2,
          3.1,
          2.3,
          2.8,
          2.8,
          3.3,
          2.4,
          2.9,
          2.7,
          2,
          3,
          2.2,
          2.9,
          2.9,
          3.1,
          3,
          2.7,
          2.2,
          2.5,
          3.2,
          2.8,
          2.5,
          2.8,
          2.9,
          3,
          2.8,
          3,
          2.9,
          2.6,
          2.4,
          2.4,
          2.7,
          2.7,
          3,
          3.4,
          3.1,
          2.3,
          3,
          2.5,
          2.6,
          3,
          2.6,
          2.3,
          2.7,
          3,
          2.9,
          2.9,
          2.5,
          2.8
         ],
         "xaxis": "x",
         "y": [
          7,
          6.4,
          6.9,
          5.5,
          6.5,
          5.7,
          6.3,
          4.9,
          6.6,
          5.2,
          5,
          5.9,
          6,
          6.1,
          5.6,
          6.7,
          5.6,
          5.8,
          6.2,
          5.6,
          5.9,
          6.1,
          6.3,
          6.1,
          6.4,
          6.6,
          6.8,
          6.7,
          6,
          5.7,
          5.5,
          5.5,
          5.8,
          6,
          5.4,
          6,
          6.7,
          6.3,
          5.6,
          5.5,
          5.5,
          6.1,
          5.8,
          5,
          5.6,
          5.7,
          5.7,
          6.2,
          5.1,
          5.7
         ],
         "yaxis": "y"
        },
        {
         "hovertemplate": "species=virginica<br>sepal_width=%{x}<br>sepal_length=%{y}<extra></extra>",
         "legendgroup": "virginica",
         "marker": {
          "color": "#00cc96",
          "symbol": "circle"
         },
         "mode": "markers",
         "name": "virginica",
         "orientation": "v",
         "showlegend": true,
         "type": "scatter",
         "x": [
          3.3,
          2.7,
          3,
          2.9,
          3,
          3,
          2.5,
          2.9,
          2.5,
          3.6,
          3.2,
          2.7,
          3,
          2.5,
          2.8,
          3.2,
          3,
          3.8,
          2.6,
          2.2,
          3.2,
          2.8,
          2.8,
          2.7,
          3.3,
          3.2,
          2.8,
          3,
          2.8,
          3,
          2.8,
          3.8,
          2.8,
          2.8,
          2.6,
          3,
          3.4,
          3.1,
          3,
          3.1,
          3.1,
          3.1,
          2.7,
          3.2,
          3.3,
          3,
          2.5,
          3,
          3.4,
          3
         ],
         "xaxis": "x",
         "y": [
          6.3,
          5.8,
          7.1,
          6.3,
          6.5,
          7.6,
          4.9,
          7.3,
          6.7,
          7.2,
          6.5,
          6.4,
          6.8,
          5.7,
          5.8,
          6.4,
          6.5,
          7.7,
          7.7,
          6,
          6.9,
          5.6,
          7.7,
          6.3,
          6.7,
          7.2,
          6.2,
          6.1,
          6.4,
          7.2,
          7.4,
          7.9,
          6.4,
          6.3,
          6.1,
          7.7,
          6.3,
          6.4,
          6,
          6.9,
          6.7,
          6.9,
          5.8,
          6.8,
          6.7,
          6.7,
          6.3,
          6.5,
          6.2,
          5.9
         ],
         "yaxis": "y"
        }
       ],
       "layout": {
        "legend": {
         "title": {
          "text": "species"
         },
         "tracegroupgap": 0
        },
        "margin": {
         "t": 60
        },
        "template": {
         "data": {
          "bar": [
           {
            "error_x": {
             "color": "#2a3f5f"
            },
            "error_y": {
             "color": "#2a3f5f"
            },
            "marker": {
             "line": {
              "color": "#E5ECF6",
              "width": 0.5
             },
             "pattern": {
              "fillmode": "overlay",
              "size": 10,
              "solidity": 0.2
             }
            },
            "type": "bar"
           }
          ],
          "barpolar": [
           {
            "marker": {
             "line": {
              "color": "#E5ECF6",
              "width": 0.5
             },
             "pattern": {
              "fillmode": "overlay",
              "size": 10,
              "solidity": 0.2
             }
            },
            "type": "barpolar"
           }
          ],
          "carpet": [
           {
            "aaxis": {
             "endlinecolor": "#2a3f5f",
             "gridcolor": "white",
             "linecolor": "white",
             "minorgridcolor": "white",
             "startlinecolor": "#2a3f5f"
            },
            "baxis": {
             "endlinecolor": "#2a3f5f",
             "gridcolor": "white",
             "linecolor": "white",
             "minorgridcolor": "white",
             "startlinecolor": "#2a3f5f"
            },
            "type": "carpet"
           }
          ],
          "choropleth": [
           {
            "colorbar": {
             "outlinewidth": 0,
             "ticks": ""
            },
            "type": "choropleth"
           }
          ],
          "contour": [
           {
            "colorbar": {
             "outlinewidth": 0,
             "ticks": ""
            },
            "colorscale": [
             [
              0,
              "#0d0887"
             ],
             [
              0.1111111111111111,
              "#46039f"
             ],
             [
              0.2222222222222222,
              "#7201a8"
             ],
             [
              0.3333333333333333,
              "#9c179e"
             ],
             [
              0.4444444444444444,
              "#bd3786"
             ],
             [
              0.5555555555555556,
              "#d8576b"
             ],
             [
              0.6666666666666666,
              "#ed7953"
             ],
             [
              0.7777777777777778,
              "#fb9f3a"
             ],
             [
              0.8888888888888888,
              "#fdca26"
             ],
             [
              1,
              "#f0f921"
             ]
            ],
            "type": "contour"
           }
          ],
          "contourcarpet": [
           {
            "colorbar": {
             "outlinewidth": 0,
             "ticks": ""
            },
            "type": "contourcarpet"
           }
          ],
          "heatmap": [
           {
            "colorbar": {
             "outlinewidth": 0,
             "ticks": ""
            },
            "colorscale": [
             [
              0,
              "#0d0887"
             ],
             [
              0.1111111111111111,
              "#46039f"
             ],
             [
              0.2222222222222222,
              "#7201a8"
             ],
             [
              0.3333333333333333,
              "#9c179e"
             ],
             [
              0.4444444444444444,
              "#bd3786"
             ],
             [
              0.5555555555555556,
              "#d8576b"
             ],
             [
              0.6666666666666666,
              "#ed7953"
             ],
             [
              0.7777777777777778,
              "#fb9f3a"
             ],
             [
              0.8888888888888888,
              "#fdca26"
             ],
             [
              1,
              "#f0f921"
             ]
            ],
            "type": "heatmap"
           }
          ],
          "heatmapgl": [
           {
            "colorbar": {
             "outlinewidth": 0,
             "ticks": ""
            },
            "colorscale": [
             [
              0,
              "#0d0887"
             ],
             [
              0.1111111111111111,
              "#46039f"
             ],
             [
              0.2222222222222222,
              "#7201a8"
             ],
             [
              0.3333333333333333,
              "#9c179e"
             ],
             [
              0.4444444444444444,
              "#bd3786"
             ],
             [
              0.5555555555555556,
              "#d8576b"
             ],
             [
              0.6666666666666666,
              "#ed7953"
             ],
             [
              0.7777777777777778,
              "#fb9f3a"
             ],
             [
              0.8888888888888888,
              "#fdca26"
             ],
             [
              1,
              "#f0f921"
             ]
            ],
            "type": "heatmapgl"
           }
          ],
          "histogram": [
           {
            "marker": {
             "pattern": {
              "fillmode": "overlay",
              "size": 10,
              "solidity": 0.2
             }
            },
            "type": "histogram"
           }
          ],
          "histogram2d": [
           {
            "colorbar": {
             "outlinewidth": 0,
             "ticks": ""
            },
            "colorscale": [
             [
              0,
              "#0d0887"
             ],
             [
              0.1111111111111111,
              "#46039f"
             ],
             [
              0.2222222222222222,
              "#7201a8"
             ],
             [
              0.3333333333333333,
              "#9c179e"
             ],
             [
              0.4444444444444444,
              "#bd3786"
             ],
             [
              0.5555555555555556,
              "#d8576b"
             ],
             [
              0.6666666666666666,
              "#ed7953"
             ],
             [
              0.7777777777777778,
              "#fb9f3a"
             ],
             [
              0.8888888888888888,
              "#fdca26"
             ],
             [
              1,
              "#f0f921"
             ]
            ],
            "type": "histogram2d"
           }
          ],
          "histogram2dcontour": [
           {
            "colorbar": {
             "outlinewidth": 0,
             "ticks": ""
            },
            "colorscale": [
             [
              0,
              "#0d0887"
             ],
             [
              0.1111111111111111,
              "#46039f"
             ],
             [
              0.2222222222222222,
              "#7201a8"
             ],
             [
              0.3333333333333333,
              "#9c179e"
             ],
             [
              0.4444444444444444,
              "#bd3786"
             ],
             [
              0.5555555555555556,
              "#d8576b"
             ],
             [
              0.6666666666666666,
              "#ed7953"
             ],
             [
              0.7777777777777778,
              "#fb9f3a"
             ],
             [
              0.8888888888888888,
              "#fdca26"
             ],
             [
              1,
              "#f0f921"
             ]
            ],
            "type": "histogram2dcontour"
           }
          ],
          "mesh3d": [
           {
            "colorbar": {
             "outlinewidth": 0,
             "ticks": ""
            },
            "type": "mesh3d"
           }
          ],
          "parcoords": [
           {
            "line": {
             "colorbar": {
              "outlinewidth": 0,
              "ticks": ""
             }
            },
            "type": "parcoords"
           }
          ],
          "pie": [
           {
            "automargin": true,
            "type": "pie"
           }
          ],
          "scatter": [
           {
            "fillpattern": {
             "fillmode": "overlay",
             "size": 10,
             "solidity": 0.2
            },
            "type": "scatter"
           }
          ],
          "scatter3d": [
           {
            "line": {
             "colorbar": {
              "outlinewidth": 0,
              "ticks": ""
             }
            },
            "marker": {
             "colorbar": {
              "outlinewidth": 0,
              "ticks": ""
             }
            },
            "type": "scatter3d"
           }
          ],
          "scattercarpet": [
           {
            "marker": {
             "colorbar": {
              "outlinewidth": 0,
              "ticks": ""
             }
            },
            "type": "scattercarpet"
           }
          ],
          "scattergeo": [
           {
            "marker": {
             "colorbar": {
              "outlinewidth": 0,
              "ticks": ""
             }
            },
            "type": "scattergeo"
           }
          ],
          "scattergl": [
           {
            "marker": {
             "colorbar": {
              "outlinewidth": 0,
              "ticks": ""
             }
            },
            "type": "scattergl"
           }
          ],
          "scattermapbox": [
           {
            "marker": {
             "colorbar": {
              "outlinewidth": 0,
              "ticks": ""
             }
            },
            "type": "scattermapbox"
           }
          ],
          "scatterpolar": [
           {
            "marker": {
             "colorbar": {
              "outlinewidth": 0,
              "ticks": ""
             }
            },
            "type": "scatterpolar"
           }
          ],
          "scatterpolargl": [
           {
            "marker": {
             "colorbar": {
              "outlinewidth": 0,
              "ticks": ""
             }
            },
            "type": "scatterpolargl"
           }
          ],
          "scatterternary": [
           {
            "marker": {
             "colorbar": {
              "outlinewidth": 0,
              "ticks": ""
             }
            },
            "type": "scatterternary"
           }
          ],
          "surface": [
           {
            "colorbar": {
             "outlinewidth": 0,
             "ticks": ""
            },
            "colorscale": [
             [
              0,
              "#0d0887"
             ],
             [
              0.1111111111111111,
              "#46039f"
             ],
             [
              0.2222222222222222,
              "#7201a8"
             ],
             [
              0.3333333333333333,
              "#9c179e"
             ],
             [
              0.4444444444444444,
              "#bd3786"
             ],
             [
              0.5555555555555556,
              "#d8576b"
             ],
             [
              0.6666666666666666,
              "#ed7953"
             ],
             [
              0.7777777777777778,
              "#fb9f3a"
             ],
             [
              0.8888888888888888,
              "#fdca26"
             ],
             [
              1,
              "#f0f921"
             ]
            ],
            "type": "surface"
           }
          ],
          "table": [
           {
            "cells": {
             "fill": {
              "color": "#EBF0F8"
             },
             "line": {
              "color": "white"
             }
            },
            "header": {
             "fill": {
              "color": "#C8D4E3"
             },
             "line": {
              "color": "white"
             }
            },
            "type": "table"
           }
          ]
         },
         "layout": {
          "annotationdefaults": {
           "arrowcolor": "#2a3f5f",
           "arrowhead": 0,
           "arrowwidth": 1
          },
          "autotypenumbers": "strict",
          "coloraxis": {
           "colorbar": {
            "outlinewidth": 0,
            "ticks": ""
           }
          },
          "colorscale": {
           "diverging": [
            [
             0,
             "#8e0152"
            ],
            [
             0.1,
             "#c51b7d"
            ],
            [
             0.2,
             "#de77ae"
            ],
            [
             0.3,
             "#f1b6da"
            ],
            [
             0.4,
             "#fde0ef"
            ],
            [
             0.5,
             "#f7f7f7"
            ],
            [
             0.6,
             "#e6f5d0"
            ],
            [
             0.7,
             "#b8e186"
            ],
            [
             0.8,
             "#7fbc41"
            ],
            [
             0.9,
             "#4d9221"
            ],
            [
             1,
             "#276419"
            ]
           ],
           "sequential": [
            [
             0,
             "#0d0887"
            ],
            [
             0.1111111111111111,
             "#46039f"
            ],
            [
             0.2222222222222222,
             "#7201a8"
            ],
            [
             0.3333333333333333,
             "#9c179e"
            ],
            [
             0.4444444444444444,
             "#bd3786"
            ],
            [
             0.5555555555555556,
             "#d8576b"
            ],
            [
             0.6666666666666666,
             "#ed7953"
            ],
            [
             0.7777777777777778,
             "#fb9f3a"
            ],
            [
             0.8888888888888888,
             "#fdca26"
            ],
            [
             1,
             "#f0f921"
            ]
           ],
           "sequentialminus": [
            [
             0,
             "#0d0887"
            ],
            [
             0.1111111111111111,
             "#46039f"
            ],
            [
             0.2222222222222222,
             "#7201a8"
            ],
            [
             0.3333333333333333,
             "#9c179e"
            ],
            [
             0.4444444444444444,
             "#bd3786"
            ],
            [
             0.5555555555555556,
             "#d8576b"
            ],
            [
             0.6666666666666666,
             "#ed7953"
            ],
            [
             0.7777777777777778,
             "#fb9f3a"
            ],
            [
             0.8888888888888888,
             "#fdca26"
            ],
            [
             1,
             "#f0f921"
            ]
           ]
          },
          "colorway": [
           "#636efa",
           "#EF553B",
           "#00cc96",
           "#ab63fa",
           "#FFA15A",
           "#19d3f3",
           "#FF6692",
           "#B6E880",
           "#FF97FF",
           "#FECB52"
          ],
          "font": {
           "color": "#2a3f5f"
          },
          "geo": {
           "bgcolor": "white",
           "lakecolor": "white",
           "landcolor": "#E5ECF6",
           "showlakes": true,
           "showland": true,
           "subunitcolor": "white"
          },
          "hoverlabel": {
           "align": "left"
          },
          "hovermode": "closest",
          "mapbox": {
           "style": "light"
          },
          "paper_bgcolor": "white",
          "plot_bgcolor": "#E5ECF6",
          "polar": {
           "angularaxis": {
            "gridcolor": "white",
            "linecolor": "white",
            "ticks": ""
           },
           "bgcolor": "#E5ECF6",
           "radialaxis": {
            "gridcolor": "white",
            "linecolor": "white",
            "ticks": ""
           }
          },
          "scene": {
           "xaxis": {
            "backgroundcolor": "#E5ECF6",
            "gridcolor": "white",
            "gridwidth": 2,
            "linecolor": "white",
            "showbackground": true,
            "ticks": "",
            "zerolinecolor": "white"
           },
           "yaxis": {
            "backgroundcolor": "#E5ECF6",
            "gridcolor": "white",
            "gridwidth": 2,
            "linecolor": "white",
            "showbackground": true,
            "ticks": "",
            "zerolinecolor": "white"
           },
           "zaxis": {
            "backgroundcolor": "#E5ECF6",
            "gridcolor": "white",
            "gridwidth": 2,
            "linecolor": "white",
            "showbackground": true,
            "ticks": "",
            "zerolinecolor": "white"
           }
          },
          "shapedefaults": {
           "line": {
            "color": "#2a3f5f"
           }
          },
          "ternary": {
           "aaxis": {
            "gridcolor": "white",
            "linecolor": "white",
            "ticks": ""
           },
           "baxis": {
            "gridcolor": "white",
            "linecolor": "white",
            "ticks": ""
           },
           "bgcolor": "#E5ECF6",
           "caxis": {
            "gridcolor": "white",
            "linecolor": "white",
            "ticks": ""
           }
          },
          "title": {
           "x": 0.05
          },
          "xaxis": {
           "automargin": true,
           "gridcolor": "white",
           "linecolor": "white",
           "ticks": "",
           "title": {
            "standoff": 15
           },
           "zerolinecolor": "white",
           "zerolinewidth": 2
          },
          "yaxis": {
           "automargin": true,
           "gridcolor": "white",
           "linecolor": "white",
           "ticks": "",
           "title": {
            "standoff": 15
           },
           "zerolinecolor": "white",
           "zerolinewidth": 2
          }
         }
        },
        "xaxis": {
         "anchor": "y",
         "domain": [
          0,
          1
         ],
         "title": {
          "text": "sepal_width"
         }
        },
        "yaxis": {
         "anchor": "x",
         "domain": [
          0,
          1
         ],
         "title": {
          "text": "sepal_length"
         }
        }
       }
      },
      "image/png": "[encoded data removed]",
      "text/html": [
       "<div>                            <div id=\"c9c01056-b9b6-478a-a80f-e5b59b84711e\" class=\"plotly-graph-div\" style=\"height:525px; width:100%;\"></div>            <script type=\"text/javascript\">                require([\"plotly\"], function(Plotly) {                    window.PLOTLYENV=window.PLOTLYENV || {};                                    if (document.getElementById(\"c9c01056-b9b6-478a-a80f-e5b59b84711e\")) {                    Plotly.newPlot(                        \"c9c01056-b9b6-478a-a80f-e5b59b84711e\",                        [{\"hovertemplate\":\"species=setosa\\u003cbr\\u003esepal_width=%{x}\\u003cbr\\u003esepal_length=%{y}\\u003cextra\\u003e\\u003c\\u002fextra\\u003e\",\"legendgroup\":\"setosa\",\"marker\":{\"color\":\"#636efa\",\"symbol\":\"circle\"},\"mode\":\"markers\",\"name\":\"setosa\",\"orientation\":\"v\",\"showlegend\":true,\"x\":[3.5,3.0,3.2,3.1,3.6,3.9,3.4,3.4,2.9,3.1,3.7,3.4,3.0,3.0,4.0,4.4,3.9,3.5,3.8,3.8,3.4,3.7,3.6,3.3,3.4,3.0,3.4,3.5,3.4,3.2,3.1,3.4,4.1,4.2,3.1,3.2,3.5,3.1,3.0,3.4,3.5,2.3,3.2,3.5,3.8,3.0,3.8,3.2,3.7,3.3],\"xaxis\":\"x\",\"y\":[5.1,4.9,4.7,4.6,5.0,5.4,4.6,5.0,4.4,4.9,5.4,4.8,4.8,4.3,5.8,5.7,5.4,5.1,5.7,5.1,5.4,5.1,4.6,5.1,4.8,5.0,5.0,5.2,5.2,4.7,4.8,5.4,5.2,5.5,4.9,5.0,5.5,4.9,4.4,5.1,5.0,4.5,4.4,5.0,5.1,4.8,5.1,4.6,5.3,5.0],\"yaxis\":\"y\",\"type\":\"scatter\"},{\"hovertemplate\":\"species=versicolor\\u003cbr\\u003esepal_width=%{x}\\u003cbr\\u003esepal_length=%{y}\\u003cextra\\u003e\\u003c\\u002fextra\\u003e\",\"legendgroup\":\"versicolor\",\"marker\":{\"color\":\"#EF553B\",\"symbol\":\"circle\"},\"mode\":\"markers\",\"name\":\"versicolor\",\"orientation\":\"v\",\"showlegend\":true,\"x\":[3.2,3.2,3.1,2.3,2.8,2.8,3.3,2.4,2.9,2.7,2.0,3.0,2.2,2.9,2.9,3.1,3.0,2.7,2.2,2.5,3.2,2.8,2.5,2.8,2.9,3.0,2.8,3.0,2.9,2.6,2.4,2.4,2.7,2.7,3.0,3.4,3.1,2.3,3.0,2.5,2.6,3.0,2.6,2.3,2.7,3.0,2.9,2.9,2.5,2.8],\"xaxis\":\"x\",\"y\":[7.0,6.4,6.9,5.5,6.5,5.7,6.3,4.9,6.6,5.2,5.0,5.9,6.0,6.1,5.6,6.7,5.6,5.8,6.2,5.6,5.9,6.1,6.3,6.1,6.4,6.6,6.8,6.7,6.0,5.7,5.5,5.5,5.8,6.0,5.4,6.0,6.7,6.3,5.6,5.5,5.5,6.1,5.8,5.0,5.6,5.7,5.7,6.2,5.1,5.7],\"yaxis\":\"y\",\"type\":\"scatter\"},{\"hovertemplate\":\"species=virginica\\u003cbr\\u003esepal_width=%{x}\\u003cbr\\u003esepal_length=%{y}\\u003cextra\\u003e\\u003c\\u002fextra\\u003e\",\"legendgroup\":\"virginica\",\"marker\":{\"color\":\"#00cc96\",\"symbol\":\"circle\"},\"mode\":\"markers\",\"name\":\"virginica\",\"orientation\":\"v\",\"showlegend\":true,\"x\":[3.3,2.7,3.0,2.9,3.0,3.0,2.5,2.9,2.5,3.6,3.2,2.7,3.0,2.5,2.8,3.2,3.0,3.8,2.6,2.2,3.2,2.8,2.8,2.7,3.3,3.2,2.8,3.0,2.8,3.0,2.8,3.8,2.8,2.8,2.6,3.0,3.4,3.1,3.0,3.1,3.1,3.1,2.7,3.2,3.3,3.0,2.5,3.0,3.4,3.0],\"xaxis\":\"x\",\"y\":[6.3,5.8,7.1,6.3,6.5,7.6,4.9,7.3,6.7,7.2,6.5,6.4,6.8,5.7,5.8,6.4,6.5,7.7,7.7,6.0,6.9,5.6,7.7,6.3,6.7,7.2,6.2,6.1,6.4,7.2,7.4,7.9,6.4,6.3,6.1,7.7,6.3,6.4,6.0,6.9,6.7,6.9,5.8,6.8,6.7,6.7,6.3,6.5,6.2,5.9],\"yaxis\":\"y\",\"type\":\"scatter\"}],                        {\"template\":{\"data\":{\"histogram2dcontour\":[{\"type\":\"histogram2dcontour\",\"colorbar\":{\"outlinewidth\":0,\"ticks\":\"\"},\"colorscale\":[[0.0,\"#0d0887\"],[0.1111111111111111,\"#46039f\"],[0.2222222222222222,\"#7201a8\"],[0.3333333333333333,\"#9c179e\"],[0.4444444444444444,\"#bd3786\"],[0.5555555555555556,\"#d8576b\"],[0.6666666666666666,\"#ed7953\"],[0.7777777777777778,\"#fb9f3a\"],[0.8888888888888888,\"#fdca26\"],[1.0,\"#f0f921\"]]}],\"choropleth\":[{\"type\":\"choropleth\",\"colorbar\":{\"outlinewidth\":0,\"ticks\":\"\"}}],\"histogram2d\":[{\"type\":\"histogram2d\",\"colorbar\":{\"outlinewidth\":0,\"ticks\":\"\"},\"colorscale\":[[0.0,\"#0d0887\"],[0.1111111111111111,\"#46039f\"],[0.2222222222222222,\"#7201a8\"],[0.3333333333333333,\"#9c179e\"],[0.4444444444444444,\"#bd3786\"],[0.5555555555555556,\"#d8576b\"],[0.6666666666666666,\"#ed7953\"],[0.7777777777777778,\"#fb9f3a\"],[0.8888888888888888,\"#fdca26\"],[1.0,\"#f0f921\"]]}],\"heatmap\":[{\"type\":\"heatmap\",\"colorbar\":{\"outlinewidth\":0,\"ticks\":\"\"},\"colorscale\":[[0.0,\"#0d0887\"],[0.1111111111111111,\"#46039f\"],[0.2222222222222222,\"#7201a8\"],[0.3333333333333333,\"#9c179e\"],[0.4444444444444444,\"#bd3786\"],[0.5555555555555556,\"#d8576b\"],[0.6666666666666666,\"#ed7953\"],[0.7777777777777778,\"#fb9f3a\"],[0.8888888888888888,\"#fdca26\"],[1.0,\"#f0f921\"]]}],\"heatmapgl\":[{\"type\":\"heatmapgl\",\"colorbar\":{\"outlinewidth\":0,\"ticks\":\"\"},\"colorscale\":[[0.0,\"#0d0887\"],[0.1111111111111111,\"#46039f\"],[0.2222222222222222,\"#7201a8\"],[0.3333333333333333,\"#9c179e\"],[0.4444444444444444,\"#bd3786\"],[0.5555555555555556,\"#d8576b\"],[0.6666666666666666,\"#ed7953\"],[0.7777777777777778,\"#fb9f3a\"],[0.8888888888888888,\"#fdca26\"],[1.0,\"#f0f921\"]]}],\"contourcarpet\":[{\"type\":\"contourcarpet\",\"colorbar\":{\"outlinewidth\":0,\"ticks\":\"\"}}],\"contour\":[{\"type\":\"contour\",\"colorbar\":{\"outlinewidth\":0,\"ticks\":\"\"},\"colorscale\":[[0.0,\"#0d0887\"],[0.1111111111111111,\"#46039f\"],[0.2222222222222222,\"#7201a8\"],[0.3333333333333333,\"#9c179e\"],[0.4444444444444444,\"#bd3786\"],[0.5555555555555556,\"#d8576b\"],[0.6666666666666666,\"#ed7953\"],[0.7777777777777778,\"#fb9f3a\"],[0.8888888888888888,\"#fdca26\"],[1.0,\"#f0f921\"]]}],\"surface\":[{\"type\":\"surface\",\"colorbar\":{\"outlinewidth\":0,\"ticks\":\"\"},\"colorscale\":[[0.0,\"#0d0887\"],[0.1111111111111111,\"#46039f\"],[0.2222222222222222,\"#7201a8\"],[0.3333333333333333,\"#9c179e\"],[0.4444444444444444,\"#bd3786\"],[0.5555555555555556,\"#d8576b\"],[0.6666666666666666,\"#ed7953\"],[0.7777777777777778,\"#fb9f3a\"],[0.8888888888888888,\"#fdca26\"],[1.0,\"#f0f921\"]]}],\"mesh3d\":[{\"type\":\"mesh3d\",\"colorbar\":{\"outlinewidth\":0,\"ticks\":\"\"}}],\"scatter\":[{\"fillpattern\":{\"fillmode\":\"overlay\",\"size\":10,\"solidity\":0.2},\"type\":\"scatter\"}],\"parcoords\":[{\"type\":\"parcoords\",\"line\":{\"colorbar\":{\"outlinewidth\":0,\"ticks\":\"\"}}}],\"scatterpolargl\":[{\"type\":\"scatterpolargl\",\"marker\":{\"colorbar\":{\"outlinewidth\":0,\"ticks\":\"\"}}}],\"bar\":[{\"error_x\":{\"color\":\"#2a3f5f\"},\"error_y\":{\"color\":\"#2a3f5f\"},\"marker\":{\"line\":{\"color\":\"#E5ECF6\",\"width\":0.5},\"pattern\":{\"fillmode\":\"overlay\",\"size\":10,\"solidity\":0.2}},\"type\":\"bar\"}],\"scattergeo\":[{\"type\":\"scattergeo\",\"marker\":{\"colorbar\":{\"outlinewidth\":0,\"ticks\":\"\"}}}],\"scatterpolar\":[{\"type\":\"scatterpolar\",\"marker\":{\"colorbar\":{\"outlinewidth\":0,\"ticks\":\"\"}}}],\"histogram\":[{\"marker\":{\"pattern\":{\"fillmode\":\"overlay\",\"size\":10,\"solidity\":0.2}},\"type\":\"histogram\"}],\"scattergl\":[{\"type\":\"scattergl\",\"marker\":{\"colorbar\":{\"outlinewidth\":0,\"ticks\":\"\"}}}],\"scatter3d\":[{\"type\":\"scatter3d\",\"line\":{\"colorbar\":{\"outlinewidth\":0,\"ticks\":\"\"}},\"marker\":{\"colorbar\":{\"outlinewidth\":0,\"ticks\":\"\"}}}],\"scattermapbox\":[{\"type\":\"scattermapbox\",\"marker\":{\"colorbar\":{\"outlinewidth\":0,\"ticks\":\"\"}}}],\"scatterternary\":[{\"type\":\"scatterternary\",\"marker\":{\"colorbar\":{\"outlinewidth\":0,\"ticks\":\"\"}}}],\"scattercarpet\":[{\"type\":\"scattercarpet\",\"marker\":{\"colorbar\":{\"outlinewidth\":0,\"ticks\":\"\"}}}],\"carpet\":[{\"aaxis\":{\"endlinecolor\":\"#2a3f5f\",\"gridcolor\":\"white\",\"linecolor\":\"white\",\"minorgridcolor\":\"white\",\"startlinecolor\":\"#2a3f5f\"},\"baxis\":{\"endlinecolor\":\"#2a3f5f\",\"gridcolor\":\"white\",\"linecolor\":\"white\",\"minorgridcolor\":\"white\",\"startlinecolor\":\"#2a3f5f\"},\"type\":\"carpet\"}],\"table\":[{\"cells\":{\"fill\":{\"color\":\"#EBF0F8\"},\"line\":{\"color\":\"white\"}},\"header\":{\"fill\":{\"color\":\"#C8D4E3\"},\"line\":{\"color\":\"white\"}},\"type\":\"table\"}],\"barpolar\":[{\"marker\":{\"line\":{\"color\":\"#E5ECF6\",\"width\":0.5},\"pattern\":{\"fillmode\":\"overlay\",\"size\":10,\"solidity\":0.2}},\"type\":\"barpolar\"}],\"pie\":[{\"automargin\":true,\"type\":\"pie\"}]},\"layout\":{\"autotypenumbers\":\"strict\",\"colorway\":[\"#636efa\",\"#EF553B\",\"#00cc96\",\"#ab63fa\",\"#FFA15A\",\"#19d3f3\",\"#FF6692\",\"#B6E880\",\"#FF97FF\",\"#FECB52\"],\"font\":{\"color\":\"#2a3f5f\"},\"hovermode\":\"closest\",\"hoverlabel\":{\"align\":\"left\"},\"paper_bgcolor\":\"white\",\"plot_bgcolor\":\"#E5ECF6\",\"polar\":{\"bgcolor\":\"#E5ECF6\",\"angularaxis\":{\"gridcolor\":\"white\",\"linecolor\":\"white\",\"ticks\":\"\"},\"radialaxis\":{\"gridcolor\":\"white\",\"linecolor\":\"white\",\"ticks\":\"\"}},\"ternary\":{\"bgcolor\":\"#E5ECF6\",\"aaxis\":{\"gridcolor\":\"white\",\"linecolor\":\"white\",\"ticks\":\"\"},\"baxis\":{\"gridcolor\":\"white\",\"linecolor\":\"white\",\"ticks\":\"\"},\"caxis\":{\"gridcolor\":\"white\",\"linecolor\":\"white\",\"ticks\":\"\"}},\"coloraxis\":{\"colorbar\":{\"outlinewidth\":0,\"ticks\":\"\"}},\"colorscale\":{\"sequential\":[[0.0,\"#0d0887\"],[0.1111111111111111,\"#46039f\"],[0.2222222222222222,\"#7201a8\"],[0.3333333333333333,\"#9c179e\"],[0.4444444444444444,\"#bd3786\"],[0.5555555555555556,\"#d8576b\"],[0.6666666666666666,\"#ed7953\"],[0.7777777777777778,\"#fb9f3a\"],[0.8888888888888888,\"#fdca26\"],[1.0,\"#f0f921\"]],\"sequentialminus\":[[0.0,\"#0d0887\"],[0.1111111111111111,\"#46039f\"],[0.2222222222222222,\"#7201a8\"],[0.3333333333333333,\"#9c179e\"],[0.4444444444444444,\"#bd3786\"],[0.5555555555555556,\"#d8576b\"],[0.6666666666666666,\"#ed7953\"],[0.7777777777777778,\"#fb9f3a\"],[0.8888888888888888,\"#fdca26\"],[1.0,\"#f0f921\"]],\"diverging\":[[0,\"#8e0152\"],[0.1,\"#c51b7d\"],[0.2,\"#de77ae\"],[0.3,\"#f1b6da\"],[0.4,\"#fde0ef\"],[0.5,\"#f7f7f7\"],[0.6,\"#e6f5d0\"],[0.7,\"#b8e186\"],[0.8,\"#7fbc41\"],[0.9,\"#4d9221\"],[1,\"#276419\"]]},\"xaxis\":{\"gridcolor\":\"white\",\"linecolor\":\"white\",\"ticks\":\"\",\"title\":{\"standoff\":15},\"zerolinecolor\":\"white\",\"automargin\":true,\"zerolinewidth\":2},\"yaxis\":{\"gridcolor\":\"white\",\"linecolor\":\"white\",\"ticks\":\"\",\"title\":{\"standoff\":15},\"zerolinecolor\":\"white\",\"automargin\":true,\"zerolinewidth\":2},\"scene\":{\"xaxis\":{\"backgroundcolor\":\"#E5ECF6\",\"gridcolor\":\"white\",\"linecolor\":\"white\",\"showbackground\":true,\"ticks\":\"\",\"zerolinecolor\":\"white\",\"gridwidth\":2},\"yaxis\":{\"backgroundcolor\":\"#E5ECF6\",\"gridcolor\":\"white\",\"linecolor\":\"white\",\"showbackground\":true,\"ticks\":\"\",\"zerolinecolor\":\"white\",\"gridwidth\":2},\"zaxis\":{\"backgroundcolor\":\"#E5ECF6\",\"gridcolor\":\"white\",\"linecolor\":\"white\",\"showbackground\":true,\"ticks\":\"\",\"zerolinecolor\":\"white\",\"gridwidth\":2}},\"shapedefaults\":{\"line\":{\"color\":\"#2a3f5f\"}},\"annotationdefaults\":{\"arrowcolor\":\"#2a3f5f\",\"arrowhead\":0,\"arrowwidth\":1},\"geo\":{\"bgcolor\":\"white\",\"landcolor\":\"#E5ECF6\",\"subunitcolor\":\"white\",\"showland\":true,\"showlakes\":true,\"lakecolor\":\"white\"},\"title\":{\"x\":0.05},\"mapbox\":{\"style\":\"light\"}}},\"xaxis\":{\"anchor\":\"y\",\"domain\":[0.0,1.0],\"title\":{\"text\":\"sepal_width\"}},\"yaxis\":{\"anchor\":\"x\",\"domain\":[0.0,1.0],\"title\":{\"text\":\"sepal_length\"}},\"legend\":{\"title\":{\"text\":\"species\"},\"tracegroupgap\":0},\"margin\":{\"t\":60}},                        {\"responsive\": true}                    ).then(function(){\n",
       "                            \n",
       "var gd = document.getElementById('c9c01056-b9b6-478a-a80f-e5b59b84711e');\n",
       "var x = new MutationObserver(function (mutations, observer) {{\n",
       "        var display = window.getComputedStyle(gd).display;\n",
       "        if (!display || display === 'none') {{\n",
       "            console.log([gd, 'removed!']);\n",
       "            Plotly.purge(gd);\n",
       "            observer.disconnect();\n",
       "        }}\n",
       "}});\n",
       "\n",
       "// Listen for the removal of the full notebook cells\n",
       "var notebookContainer = gd.closest('#notebook-container');\n",
       "if (notebookContainer) {{\n",
       "    x.observe(notebookContainer, {childList: true});\n",
       "}}\n",
       "\n",
       "// Listen for the clearing of the current output cell\n",
       "var outputEl = gd.closest('.output');\n",
       "if (outputEl) {{\n",
       "    x.observe(outputEl, {childList: true});\n",
       "}}\n",
       "\n",
       "                        })                };                });            </script>        </div>"
      ]
     },
     "metadata": {},
     "output_type": "display_data"
    }
   ],
   "source": [
    "# Put your code here  \n",
    "import plotly.express as px\n",
    "\n",
    "plotly_fig = px.scatter(my_plotly_data, x=\"sepal_width\", y=\"sepal_length\", color=\"species\")\n",
    "plotly_fig.show()\n",
    "#this was created altering some prexisting code on https://plotly.com/python/line-and-scatter/, from the plotly link you provided in questions above."
   ]
  },
  {
   "cell_type": "markdown",
   "id": "30af3464",
   "metadata": {},
   "source": [
    "#### &#9989; **Question 2.4 (2 points)**: How does your plot look? If you had more time to clean up this visualization, what changes would you make to it?"
   ]
  },
  {
   "cell_type": "markdown",
   "id": "4c3a05af",
   "metadata": {},
   "source": [
    "*I beleive my plot looks clean, and data is easily understandable. If given unlimited time I would find a way to cleanly represent petal length and width as well instead of just sepal's.**"
   ]
  },
  {
   "cell_type": "markdown",
   "id": "da4fb42d",
   "metadata": {},
   "source": [
    "---\n",
    "### &#128721; STOP\n",
    "**Pause to commit your changes to your Git repository! (1 point)**\n",
    "\n",
    "Take a moment to save your notebook, commit the changes to your Git repository using the commit message \"**Committing Part 2**\", and push the changes to GitHub."
   ]
  },
  {
   "cell_type": "markdown",
   "id": "c5db3757",
   "metadata": {},
   "source": [
    "----\n",
    "----\n",
    "\n",
    "<a id=\"part-3-downloading-and-analyzing-unfamiliar-data-24-points\"></a>\n",
    "\n",
    "# Part 3: Downloading and Analyzing unfamiliar data (24 points)\n",
    "\n",
    "[Back to Table of Contents](#Table-of-Contents)\n",
    "\n",
    "For this part of the exam, you're to download and analyze a dataset that you've likely not looked at before. You'll perform some simple, exploratorary analysis and create basic visualizations.\n",
    "\n",
    "In particular, you're going to be working with a dataset that contains data on 100 different animes.\n",
    "\n",
    "There are 9 columns; here we will be concerned with those described in the table below.\n",
    "\n",
    "| Column      | Description                                                                           |\n",
    "|-------------|---------------------------------------------------------------------------------------|\n",
    "|  Anime name       | The title of the anime series or movie that is the most watched in a given country.   |\n",
    "|Most watched in country|The country where the specified anime has the highest viewership or popularity.  |\n",
    "| Ratings    | The average viewer rating for the anime, typically on a scale of 1 to 10                |\n",
    "| Number of episodes     | The total number of episodes produced for the anime series.                       |\n",
    "| Studio name      | The name of the production studio responsible for creating the anime               |\n",
    "| Budget | The estimated production budget for the anime, expressed in millions of U.S. dollars.    |\n",
    "| Release year | The year the anime was first released or aired.                                    |\n",
    "| Genre      | The genre or category of the anime                                                |\n",
    "| Duration per episode| The average duration of each episode in minutes for the anime series.             |\n",
    "\n",
    "The link to the full dataset is [here](https://www.kaggle.com/datasets/samikshadalvi/100-most-watched-anime-in-the-world/data)\n",
    "\n"
   ]
  },
  {
   "cell_type": "markdown",
   "id": "7b7bf6af",
   "metadata": {},
   "source": [
    "&#9989; **Question 3.1.1 (1 point)**: To get started, use the curl command to download the data set using this link (https://raw.githubusercontent.com/gambre11/CMSE202/refs/heads/main/most_watched_anime_dataset_100_entries.csv) "
   ]
  },
  {
   "cell_type": "code",
   "execution_count": 26,
   "id": "5c22a4c2",
   "metadata": {},
   "outputs": [
    {
     "data": {
      "text/plain": [
       "'\\ncurl -o \"most_watched_anime_dataset_100_entries.csv\" https://raw.githubusercontent.com/gambre11/CMSE202/refs/heads/main/most_watched_anime_dataset_100_entries.csv\\n'"
      ]
     },
     "execution_count": 26,
     "metadata": {},
     "output_type": "execute_result"
    }
   ],
   "source": [
    "# Put your code/command here\n",
    "'''\n",
    "curl -o \"most_watched_anime_dataset_100_entries.csv\" https://raw.githubusercontent.com/gambre11/CMSE202/refs/heads/main/most_watched_anime_dataset_100_entries.csv\n",
    "'''"
   ]
  },
  {
   "cell_type": "markdown",
   "id": "de98c0c0",
   "metadata": {},
   "source": [
    "&#9989; **Question 3.1.2 (2 points)**: Now **read in the dataset** and then display the first 20 rows of the data using **Pandas**."
   ]
  },
  {
   "cell_type": "code",
   "execution_count": 30,
   "id": "a70d19d8",
   "metadata": {
    "question_id": "P2Q3",
    "tags": [
     "student_answer"
    ]
   },
   "outputs": [
    {
     "name": "stdout",
     "output_type": "stream",
     "text": [
      "             Anime Name Most Watched in Country  Ratings  Number of Episodes  \\\n",
      "0   Fullmetal Alchemist                  Brazil      8.8               317.0   \n",
      "1             Haikyuu!!                  Mexico      9.2               420.0   \n",
      "2                   NaN             South Korea      7.4               419.0   \n",
      "3                Bleach                  Brazil      6.4                 NaN   \n",
      "4      Sword Art Online                     NaN      9.8               327.0   \n",
      "5   Fullmetal Alchemist                  Brazil      NaN               402.0   \n",
      "6          Black Clover                  France      8.1                 NaN   \n",
      "7                Bleach                   China      9.4                47.0   \n",
      "8                   NaN                   Spain      8.7               184.0   \n",
      "9          Demon Slayer                     NaN      8.9                31.0   \n",
      "10     Sword Art Online                     NaN      6.8               332.0   \n",
      "11            One Piece                     NaN      8.2               275.0   \n",
      "12      Attack on Titan                   Spain      8.8                 NaN   \n",
      "13          Tokyo Ghoul          United Kingdom      6.9               153.0   \n",
      "14        Dragon Ball Z                  Canada      NaN               471.0   \n",
      "15      Attack on Titan                   China      9.9                 NaN   \n",
      "16               Naruto                   China      8.1               482.0   \n",
      "17          Tokyo Ghoul               Australia      7.0               154.0   \n",
      "18                  NaN                   Italy     10.0               103.0   \n",
      "19       Mob Psycho 100                Thailand      9.9               365.0   \n",
      "\n",
      "   Animation Studio Name  Budget (in Million USD)  Release Year         Genre  \\\n",
      "0               Ufotable                    80.61        1998.0       Fantasy   \n",
      "1                  MAPPA                    74.99        2022.0     Adventure   \n",
      "2           A-1 Pictures                    59.05        2009.0       Mystery   \n",
      "3               Ufotable                    45.35        2002.0       Fantasy   \n",
      "4               Madhouse                    15.90        2017.0           NaN   \n",
      "5                    NaN                     8.97        2018.0           NaN   \n",
      "6               Madhouse                      NaN        2002.0           NaN   \n",
      "7                  MAPPA                   127.22        1995.0     Adventure   \n",
      "8           A-1 Pictures                    53.88        2007.0       Mystery   \n",
      "9                Pierrot                      NaN        1994.0  Supernatural   \n",
      "10                   NaN                   101.84        2014.0        Comedy   \n",
      "11                   NaN                    72.90        1991.0  Supernatural   \n",
      "12                 Bones                    74.46        1999.0        Action   \n",
      "13                 MAPPA                    13.41        2019.0        Comedy   \n",
      "14               Trigger                    14.66        1994.0      Thriller   \n",
      "15               Trigger                    90.76           NaN       Mystery   \n",
      "16                 MAPPA                    83.50        1990.0     Adventure   \n",
      "17              Ufotable                    32.70        2007.0        Action   \n",
      "18                 Bones                   141.98           NaN       Mystery   \n",
      "19         Studio Ghibli                   117.41        2000.0      Thriller   \n",
      "\n",
      "    Duration per Episode (minutes)  \n",
      "0                              NaN  \n",
      "1                             59.0  \n",
      "2                             56.0  \n",
      "3                             55.0  \n",
      "4                             43.0  \n",
      "5                             50.0  \n",
      "6                             25.0  \n",
      "7                             21.0  \n",
      "8                             39.0  \n",
      "9                             47.0  \n",
      "10                             NaN  \n",
      "11                            23.0  \n",
      "12                            34.0  \n",
      "13                            25.0  \n",
      "14                            49.0  \n",
      "15                            57.0  \n",
      "16                            21.0  \n",
      "17                            34.0  \n",
      "18                            30.0  \n",
      "19                            27.0  \n",
      "<class 'pandas.core.frame.DataFrame'>\n",
      "RangeIndex: 100 entries, 0 to 99\n",
      "Data columns (total 9 columns):\n",
      " #   Column                          Non-Null Count  Dtype  \n",
      "---  ------                          --------------  -----  \n",
      " 0   Anime Name                      90 non-null     object \n",
      " 1   Most Watched in Country         90 non-null     object \n",
      " 2   Ratings                         90 non-null     float64\n",
      " 3   Number of Episodes              90 non-null     float64\n",
      " 4   Animation Studio Name           90 non-null     object \n",
      " 5   Budget (in Million USD)         90 non-null     float64\n",
      " 6   Release Year                    90 non-null     float64\n",
      " 7   Genre                           90 non-null     object \n",
      " 8   Duration per Episode (minutes)  90 non-null     float64\n",
      "dtypes: float64(5), object(4)\n",
      "memory usage: 7.2+ KB\n",
      "None\n"
     ]
    }
   ],
   "source": [
    "anime_df = pd.read_csv(\"most_watched_anime_dataset_100_entries.csv\")\n",
    "print(anime_df.head(20))\n",
    "print(anime_df.info())"
   ]
  },
  {
   "cell_type": "markdown",
   "id": "2c863d2b",
   "metadata": {},
   "source": [
    "This dataset contains more information that we care about at the moment. \n",
    "\n",
    "&#9989; **Question 3.2 (3 pts)**: Remove/Drop the columns ''Genre, Duration per Episode (minutes), Most Watched in Country''\n"
   ]
  },
  {
   "cell_type": "code",
   "execution_count": 33,
   "id": "169ed088",
   "metadata": {
    "question_id": "P2Q3",
    "tags": [
     "student_answer"
    ]
   },
   "outputs": [
    {
     "name": "stdout",
     "output_type": "stream",
     "text": [
      "            Anime Name  Ratings  Number of Episodes Animation Studio Name  \\\n",
      "0  Fullmetal Alchemist      8.8               317.0              Ufotable   \n",
      "1            Haikyuu!!      9.2               420.0                 MAPPA   \n",
      "2                  NaN      7.4               419.0          A-1 Pictures   \n",
      "3               Bleach      6.4                 NaN              Ufotable   \n",
      "4     Sword Art Online      9.8               327.0              Madhouse   \n",
      "\n",
      "   Budget (in Million USD)  Release Year  \n",
      "0                    80.61        1998.0  \n",
      "1                    74.99        2022.0  \n",
      "2                    59.05        2009.0  \n",
      "3                    45.35        2002.0  \n",
      "4                    15.90        2017.0  \n"
     ]
    }
   ],
   "source": [
    "anime_drops_df = anime_df.drop(columns=[\"Genre\",\"Duration per Episode (minutes)\",\"Most Watched in Country\"])\n",
    "print(anime_drops_df.head())"
   ]
  },
  {
   "cell_type": "markdown",
   "id": "a088b448",
   "metadata": {},
   "source": [
    "&#9989; **Question 3.3 (5 points)**: Use built-in Pandas functions to get a quick statistical summary of your data (e.g. the mean, standard deviation, min, max, etc) **divided by Animation studio name .**"
   ]
  },
  {
   "cell_type": "code",
   "execution_count": 39,
   "id": "3e915f6b",
   "metadata": {
    "question_id": "P2Q3",
    "tags": [
     "student_answer"
    ]
   },
   "outputs": [
    {
     "name": "stdout",
     "output_type": "stream",
     "text": [
      "                      Ratings                                               \\\n",
      "                        count      mean       std  min    25%   50%    75%   \n",
      "Animation Studio Name                                                        \n",
      "A-1 Pictures              2.0  8.050000  0.919239  7.4  7.725  8.05  8.375   \n",
      "Bones                     9.0  9.000000  1.324764  6.3  8.800  9.60  9.900   \n",
      "MAPPA                    11.0  8.500000  1.109054  6.8  7.650  8.90  9.400   \n",
      "Madhouse                 11.0  8.809091  0.923531  7.2  8.150  9.10  9.500   \n",
      "Pierrot                   5.0  8.380000  1.202913  7.1  7.200  8.80  8.900   \n",
      "Studio Ghibli            11.0  7.745455  0.868750  6.7  7.350  7.60  8.000   \n",
      "Toei Animation            6.0  7.733333  0.760701  6.3  7.675  7.90  8.200   \n",
      "Trigger                  11.0  8.090909  1.176822  6.8  7.050  8.00  9.050   \n",
      "Ufotable                 10.0  8.170000  1.262317  6.4  7.050  8.20  9.250   \n",
      "Wit Studio                5.0  8.220000  0.983362  7.4  7.500  7.90  8.500   \n",
      "\n",
      "                            Number of Episodes                                 \\\n",
      "                        max              count        mean         std    min   \n",
      "Animation Studio Name                                                           \n",
      "A-1 Pictures            8.7                3.0  318.666667  121.203685  184.0   \n",
      "Bones                  10.0                9.0  203.222222  145.141119   74.0   \n",
      "MAPPA                   9.8               10.0  231.200000  158.905842   16.0   \n",
      "Madhouse                9.9               10.0  258.300000  129.351416   69.0   \n",
      "Pierrot                 9.9                6.0  275.833333  169.996961   31.0   \n",
      "Studio Ghibli           9.9               10.0  194.300000  136.358229   59.0   \n",
      "Toei Animation          8.4                7.0  220.142857  175.614567   12.0   \n",
      "Trigger                 9.9               12.0  312.750000  123.207235  135.0   \n",
      "Ufotable               10.0                8.0  248.250000   94.696131  100.0   \n",
      "Wit Studio              9.8                7.0  225.142857  145.576359   69.0   \n",
      "\n",
      "                                                    Budget (in Million USD)  \\\n",
      "                          25%    50%     75%    max                   count   \n",
      "Animation Studio Name                                                         \n",
      "A-1 Pictures           268.50  353.0  386.00  419.0                     3.0   \n",
      "Bones                  128.00  133.0  191.00  455.0                     9.0   \n",
      "MAPPA                   84.75  263.0  309.50  482.0                    10.0   \n",
      "Madhouse               129.50  301.0  364.75  407.0                    11.0   \n",
      "Pierrot                165.50  302.5  386.25  485.0                     5.0   \n",
      "Studio Ghibli           69.50  173.5  274.75  435.0                    10.0   \n",
      "Toei Animation          87.50  197.0  332.50  492.0                     7.0   \n",
      "Trigger                219.75  322.0  400.25  491.0                    10.0   \n",
      "Ufotable               155.50  300.0  318.25  337.0                     9.0   \n",
      "Wit Studio             109.50  155.0  364.50  404.0                     6.0   \n",
      "\n",
      "                                                                        \\\n",
      "                             mean        std    min       25%      50%   \n",
      "Animation Studio Name                                                    \n",
      "A-1 Pictures            40.750000  27.341651   9.32   31.6000   53.880   \n",
      "Bones                  119.950000  41.784603  25.77  129.6100  137.950   \n",
      "MAPPA                   74.139000  34.240252  13.41   51.8350   73.880   \n",
      "Madhouse                84.910909  41.786028  15.90   57.7850   79.730   \n",
      "Pierrot                 64.708000  51.753316  12.24   38.7000   54.690   \n",
      "Studio Ghibli           77.076000  35.942150   5.82   59.0825   76.050   \n",
      "Toei Animation          46.587143  36.219563   9.62   24.5500   36.270   \n",
      "Trigger                 86.297000  43.775004  14.66   61.9050   87.300   \n",
      "Ufotable                61.148889  38.744645  16.91   32.7000   45.350   \n",
      "Wit Studio              93.770000  42.775275  34.16   63.2750  103.655   \n",
      "\n",
      "                                        Release Year                          \\\n",
      "                            75%     max        count         mean        std   \n",
      "Animation Studio Name                                                          \n",
      "A-1 Pictures            56.4650   59.05          3.0  2010.666667   4.725816   \n",
      "Bones                  143.8500  146.71          9.0  2007.222222   9.575722   \n",
      "MAPPA                   99.3400  127.22         11.0  2006.454545  12.307426   \n",
      "Madhouse               120.7850  137.37         11.0  2006.363636  10.828414   \n",
      "Pierrot                 68.5300  149.38          6.0  1995.333333   5.278889   \n",
      "Studio Ghibli          105.4200  123.60         11.0  2006.090909  10.094103   \n",
      "Toei Animation          62.4750  106.17          6.0  1998.666667   6.282250   \n",
      "Trigger                109.7975  149.39         11.0  2003.909091  11.282327   \n",
      "Ufotable                80.6100  120.51          8.0  2006.250000   8.647873   \n",
      "Wit Studio             125.3375  138.77          6.0  2007.666667   8.846845   \n",
      "\n",
      "                                                                 \n",
      "                          min      25%     50%      75%     max  \n",
      "Animation Studio Name                                            \n",
      "A-1 Pictures           2007.0  2008.00  2009.0  2012.50  2016.0  \n",
      "Bones                  1991.0  1999.00  2010.0  2012.00  2022.0  \n",
      "MAPPA                  1990.0  1997.00  2002.0  2018.50  2022.0  \n",
      "Madhouse               1990.0  1998.50  2007.0  2015.50  2019.0  \n",
      "Pierrot                1992.0  1993.00  1993.5  1994.00  2006.0  \n",
      "Studio Ghibli          1993.0  2000.00  2005.0  2013.00  2021.0  \n",
      "Toei Animation         1990.0  1995.00  1999.0  2001.50  2008.0  \n",
      "Trigger                1991.0  1994.00  2003.0  2012.50  2022.0  \n",
      "Ufotable               1997.0  1998.75  2004.5  2012.75  2020.0  \n",
      "Wit Studio             1994.0  2004.25  2007.0  2013.50  2019.0  \n"
     ]
    }
   ],
   "source": [
    "''' used chat gpt to get information on grouping\n",
    "\"how can I group the same name data together inside a column using pandas\" is what I asked it on 2/26/25\n",
    "it taught me about groupby()\n",
    "'''\n",
    "\n",
    "grouped_studio_anime_df = anime_drops_df.groupby(\"Animation Studio Name\").describe()\n",
    "\n",
    "\n",
    "\n",
    "#note this code may make dispalying your whole dataframe easier. uncomment to use\n",
    "with pd.option_context('display.max_rows', None, 'display.max_columns', None): \n",
    "    print(grouped_studio_anime_df)\n",
    "\n"
   ]
  },
  {
   "cell_type": "code",
   "execution_count": 42,
   "id": "66f0aaf5-ab91-4644-89be-09411d16171c",
   "metadata": {},
   "outputs": [
    {
     "name": "stdout",
     "output_type": "stream",
     "text": [
      "Animation Studio Name\n",
      "A-1 Pictures       3\n",
      "Bones             10\n",
      "MAPPA             11\n",
      "Madhouse          12\n",
      "Pierrot            6\n",
      "Studio Ghibli     11\n",
      "Toei Animation     7\n",
      "Trigger           13\n",
      "Ufotable          10\n",
      "Wit Studio         7\n",
      "dtype: int64\n"
     ]
    }
   ],
   "source": [
    "count_studio_anime_df = anime_drops_df.groupby(\"Animation Studio Name\").size() #this is to state how many times \"entries\" each studio had on the list.\n",
    "print(count_studio_anime_df)"
   ]
  },
  {
   "cell_type": "markdown",
   "id": "120ed4ef",
   "metadata": {},
   "source": [
    "&#9989; **Question 3.4 (2 points)**: Looking at the above output, answer the following questions: \n",
    "\n",
    "1. Which studio(s) had the highest budget in this dataset? Toei Animatio had a max budget of 492.0 Million\n",
    "2. Which studio(s) had the earliest release year? The earliest studious had a release in the year 1990, the studios are: MAPPA, Madhouse, Toei Animation.\n",
    "3. Which studio(s) had the most entries in this dataset? Trigger Studio had the most entries appearing on the list 13 times.\n",
    "4. Which studio(s) had the highest average rating in this dataset? Bone studio had the highest mean rating with an average of 9.0."
   ]
  },
  {
   "cell_type": "markdown",
   "id": "9c8b55c9",
   "metadata": {
    "question_id": "P2Q3",
    "tags": [
     "student_answer"
    ]
   },
   "source": [
    "**<font size=+3>&#9998;</font> Do This**: *1. Which studio(s) had the highest budget in this dataset? Toei Animatio had a max budget of 492.0 Million\n",
    "2. Which studio(s) had the earliest release year? The earliest studious had a release in the year 1990, the studios are: MAPPA, Madhouse, Toei Animation.\n",
    "3. Which studio(s) had the most entries in this dataset? Trigger Studio had the most entries appearing on the list 13 times.\n",
    "4. Which studio(s) had the highest average rating in this dataset? Bone studio had the highest mean rating with an average of 9.0.*\n",
    "\n"
   ]
  },
  {
   "cell_type": "markdown",
   "id": "1042f9f9",
   "metadata": {},
   "source": [
    "&#9989; **Question 3.5 (8 points)**: Using `plotly` make a figure with boxplots showing each animation studio and their number of episodes : \n",
    "\n",
    "1. Make sure the `Animation Studio Name` is the  x-axis and it's labeled\n",
    "\n",
    "2. Give the plot a title\n",
    "\n",
    "3. Set a horizontal line on this plot at y = 300\n",
    "\n",
    "4. Set the background of the plot to be white instead of blue\n",
    "\n",
    "5. **Optional** Can you center the title and/or make each box plot a different color?"
   ]
  },
  {
   "cell_type": "code",
   "execution_count": 44,
   "id": "c0a8537a",
   "metadata": {},
   "outputs": [
    {
     "data": {
      "application/vnd.plotly.v1+json": {
       "config": {
        "plotlyServerURL": "https://plot.ly"
       },
       "data": [
        {
         "alignmentgroup": "True",
         "hovertemplate": "Animation Studio Name=%{x}<br>Number of Episodes=%{y}<extra></extra>",
         "legendgroup": "",
         "marker": {
          "color": "#636efa"
         },
         "name": "",
         "notched": false,
         "offsetgroup": "",
         "orientation": "v",
         "showlegend": false,
         "type": "box",
         "x": [
          "Ufotable",
          "MAPPA",
          "A-1 Pictures",
          "Ufotable",
          "Madhouse",
          null,
          "Madhouse",
          "MAPPA",
          "A-1 Pictures",
          "Pierrot",
          null,
          null,
          "Bones",
          "MAPPA",
          "Trigger",
          "Trigger",
          "MAPPA",
          "Ufotable",
          "Bones",
          "Studio Ghibli",
          null,
          "Ufotable",
          "Trigger",
          "Trigger",
          "A-1 Pictures",
          "MAPPA",
          "Bones",
          "Toei Animation",
          "Bones",
          "Trigger",
          "Trigger",
          "Madhouse",
          "Trigger",
          "Studio Ghibli",
          "Wit Studio",
          "MAPPA",
          "Bones",
          null,
          "Ufotable",
          "Toei Animation",
          "Studio Ghibli",
          "Bones",
          "Wit Studio",
          "Toei Animation",
          "Madhouse",
          "Studio Ghibli",
          "Studio Ghibli",
          "Madhouse",
          "MAPPA",
          "Madhouse",
          "Studio Ghibli",
          null,
          "Wit Studio",
          "Trigger",
          "Toei Animation",
          "Madhouse",
          "Toei Animation",
          "Madhouse",
          "Ufotable",
          "Studio Ghibli",
          "Trigger",
          "Wit Studio",
          "Trigger",
          "Trigger",
          "Trigger",
          "Toei Animation",
          "Madhouse",
          null,
          "Ufotable",
          "Bones",
          "Trigger",
          "MAPPA",
          null,
          "Wit Studio",
          "Bones",
          "Pierrot",
          "MAPPA",
          "Pierrot",
          "Bones",
          null,
          "MAPPA",
          "Pierrot",
          "Wit Studio",
          "Madhouse",
          "Studio Ghibli",
          "Madhouse",
          "Bones",
          "Toei Animation",
          "Studio Ghibli",
          "Ufotable",
          "Wit Studio",
          "Ufotable",
          "MAPPA",
          "Studio Ghibli",
          "Ufotable",
          null,
          "Pierrot",
          "Madhouse",
          "Pierrot",
          "Studio Ghibli"
         ],
         "x0": " ",
         "xaxis": "x",
         "y": [
          317,
          420,
          419,
          null,
          327,
          402,
          null,
          47,
          184,
          31,
          332,
          275,
          null,
          153,
          471,
          null,
          482,
          154,
          103,
          365,
          333,
          299,
          226,
          458,
          353,
          62,
          164,
          197,
          74,
          201,
          136,
          161,
          325,
          69,
          353,
          316,
          191,
          null,
          337,
          282,
          null,
          455,
          112,
          492,
          275,
          64,
          71,
          119,
          16,
          114,
          207,
          null,
          376,
          491,
          383,
          361,
          58,
          366,
          322,
          435,
          319,
          155,
          280,
          381,
          135,
          117,
          null,
          158,
          156,
          131,
          330,
          286,
          103,
          69,
          450,
          357,
          240,
          485,
          128,
          329,
          290,
          138,
          404,
          407,
          140,
          69,
          133,
          12,
          250,
          301,
          107,
          null,
          null,
          59,
          100,
          499,
          248,
          384,
          396,
          283
         ],
         "y0": " ",
         "yaxis": "y"
        }
       ],
       "layout": {
        "boxmode": "group",
        "legend": {
         "tracegroupgap": 0
        },
        "shapes": [
         {
          "line": {
           "color": "red",
           "dash": "dash"
          },
          "type": "line",
          "x0": 0,
          "x1": 1,
          "xref": "x domain",
          "y0": 300,
          "y1": 300,
          "yref": "y"
         }
        ],
        "template": {
         "data": {
          "bar": [
           {
            "error_x": {
             "color": "#2a3f5f"
            },
            "error_y": {
             "color": "#2a3f5f"
            },
            "marker": {
             "line": {
              "color": "white",
              "width": 0.5
             },
             "pattern": {
              "fillmode": "overlay",
              "size": 10,
              "solidity": 0.2
             }
            },
            "type": "bar"
           }
          ],
          "barpolar": [
           {
            "marker": {
             "line": {
              "color": "white",
              "width": 0.5
             },
             "pattern": {
              "fillmode": "overlay",
              "size": 10,
              "solidity": 0.2
             }
            },
            "type": "barpolar"
           }
          ],
          "carpet": [
           {
            "aaxis": {
             "endlinecolor": "#2a3f5f",
             "gridcolor": "#C8D4E3",
             "linecolor": "#C8D4E3",
             "minorgridcolor": "#C8D4E3",
             "startlinecolor": "#2a3f5f"
            },
            "baxis": {
             "endlinecolor": "#2a3f5f",
             "gridcolor": "#C8D4E3",
             "linecolor": "#C8D4E3",
             "minorgridcolor": "#C8D4E3",
             "startlinecolor": "#2a3f5f"
            },
            "type": "carpet"
           }
          ],
          "choropleth": [
           {
            "colorbar": {
             "outlinewidth": 0,
             "ticks": ""
            },
            "type": "choropleth"
           }
          ],
          "contour": [
           {
            "colorbar": {
             "outlinewidth": 0,
             "ticks": ""
            },
            "colorscale": [
             [
              0,
              "#0d0887"
             ],
             [
              0.1111111111111111,
              "#46039f"
             ],
             [
              0.2222222222222222,
              "#7201a8"
             ],
             [
              0.3333333333333333,
              "#9c179e"
             ],
             [
              0.4444444444444444,
              "#bd3786"
             ],
             [
              0.5555555555555556,
              "#d8576b"
             ],
             [
              0.6666666666666666,
              "#ed7953"
             ],
             [
              0.7777777777777778,
              "#fb9f3a"
             ],
             [
              0.8888888888888888,
              "#fdca26"
             ],
             [
              1,
              "#f0f921"
             ]
            ],
            "type": "contour"
           }
          ],
          "contourcarpet": [
           {
            "colorbar": {
             "outlinewidth": 0,
             "ticks": ""
            },
            "type": "contourcarpet"
           }
          ],
          "heatmap": [
           {
            "colorbar": {
             "outlinewidth": 0,
             "ticks": ""
            },
            "colorscale": [
             [
              0,
              "#0d0887"
             ],
             [
              0.1111111111111111,
              "#46039f"
             ],
             [
              0.2222222222222222,
              "#7201a8"
             ],
             [
              0.3333333333333333,
              "#9c179e"
             ],
             [
              0.4444444444444444,
              "#bd3786"
             ],
             [
              0.5555555555555556,
              "#d8576b"
             ],
             [
              0.6666666666666666,
              "#ed7953"
             ],
             [
              0.7777777777777778,
              "#fb9f3a"
             ],
             [
              0.8888888888888888,
              "#fdca26"
             ],
             [
              1,
              "#f0f921"
             ]
            ],
            "type": "heatmap"
           }
          ],
          "heatmapgl": [
           {
            "colorbar": {
             "outlinewidth": 0,
             "ticks": ""
            },
            "colorscale": [
             [
              0,
              "#0d0887"
             ],
             [
              0.1111111111111111,
              "#46039f"
             ],
             [
              0.2222222222222222,
              "#7201a8"
             ],
             [
              0.3333333333333333,
              "#9c179e"
             ],
             [
              0.4444444444444444,
              "#bd3786"
             ],
             [
              0.5555555555555556,
              "#d8576b"
             ],
             [
              0.6666666666666666,
              "#ed7953"
             ],
             [
              0.7777777777777778,
              "#fb9f3a"
             ],
             [
              0.8888888888888888,
              "#fdca26"
             ],
             [
              1,
              "#f0f921"
             ]
            ],
            "type": "heatmapgl"
           }
          ],
          "histogram": [
           {
            "marker": {
             "pattern": {
              "fillmode": "overlay",
              "size": 10,
              "solidity": 0.2
             }
            },
            "type": "histogram"
           }
          ],
          "histogram2d": [
           {
            "colorbar": {
             "outlinewidth": 0,
             "ticks": ""
            },
            "colorscale": [
             [
              0,
              "#0d0887"
             ],
             [
              0.1111111111111111,
              "#46039f"
             ],
             [
              0.2222222222222222,
              "#7201a8"
             ],
             [
              0.3333333333333333,
              "#9c179e"
             ],
             [
              0.4444444444444444,
              "#bd3786"
             ],
             [
              0.5555555555555556,
              "#d8576b"
             ],
             [
              0.6666666666666666,
              "#ed7953"
             ],
             [
              0.7777777777777778,
              "#fb9f3a"
             ],
             [
              0.8888888888888888,
              "#fdca26"
             ],
             [
              1,
              "#f0f921"
             ]
            ],
            "type": "histogram2d"
           }
          ],
          "histogram2dcontour": [
           {
            "colorbar": {
             "outlinewidth": 0,
             "ticks": ""
            },
            "colorscale": [
             [
              0,
              "#0d0887"
             ],
             [
              0.1111111111111111,
              "#46039f"
             ],
             [
              0.2222222222222222,
              "#7201a8"
             ],
             [
              0.3333333333333333,
              "#9c179e"
             ],
             [
              0.4444444444444444,
              "#bd3786"
             ],
             [
              0.5555555555555556,
              "#d8576b"
             ],
             [
              0.6666666666666666,
              "#ed7953"
             ],
             [
              0.7777777777777778,
              "#fb9f3a"
             ],
             [
              0.8888888888888888,
              "#fdca26"
             ],
             [
              1,
              "#f0f921"
             ]
            ],
            "type": "histogram2dcontour"
           }
          ],
          "mesh3d": [
           {
            "colorbar": {
             "outlinewidth": 0,
             "ticks": ""
            },
            "type": "mesh3d"
           }
          ],
          "parcoords": [
           {
            "line": {
             "colorbar": {
              "outlinewidth": 0,
              "ticks": ""
             }
            },
            "type": "parcoords"
           }
          ],
          "pie": [
           {
            "automargin": true,
            "type": "pie"
           }
          ],
          "scatter": [
           {
            "fillpattern": {
             "fillmode": "overlay",
             "size": 10,
             "solidity": 0.2
            },
            "type": "scatter"
           }
          ],
          "scatter3d": [
           {
            "line": {
             "colorbar": {
              "outlinewidth": 0,
              "ticks": ""
             }
            },
            "marker": {
             "colorbar": {
              "outlinewidth": 0,
              "ticks": ""
             }
            },
            "type": "scatter3d"
           }
          ],
          "scattercarpet": [
           {
            "marker": {
             "colorbar": {
              "outlinewidth": 0,
              "ticks": ""
             }
            },
            "type": "scattercarpet"
           }
          ],
          "scattergeo": [
           {
            "marker": {
             "colorbar": {
              "outlinewidth": 0,
              "ticks": ""
             }
            },
            "type": "scattergeo"
           }
          ],
          "scattergl": [
           {
            "marker": {
             "colorbar": {
              "outlinewidth": 0,
              "ticks": ""
             }
            },
            "type": "scattergl"
           }
          ],
          "scattermapbox": [
           {
            "marker": {
             "colorbar": {
              "outlinewidth": 0,
              "ticks": ""
             }
            },
            "type": "scattermapbox"
           }
          ],
          "scatterpolar": [
           {
            "marker": {
             "colorbar": {
              "outlinewidth": 0,
              "ticks": ""
             }
            },
            "type": "scatterpolar"
           }
          ],
          "scatterpolargl": [
           {
            "marker": {
             "colorbar": {
              "outlinewidth": 0,
              "ticks": ""
             }
            },
            "type": "scatterpolargl"
           }
          ],
          "scatterternary": [
           {
            "marker": {
             "colorbar": {
              "outlinewidth": 0,
              "ticks": ""
             }
            },
            "type": "scatterternary"
           }
          ],
          "surface": [
           {
            "colorbar": {
             "outlinewidth": 0,
             "ticks": ""
            },
            "colorscale": [
             [
              0,
              "#0d0887"
             ],
             [
              0.1111111111111111,
              "#46039f"
             ],
             [
              0.2222222222222222,
              "#7201a8"
             ],
             [
              0.3333333333333333,
              "#9c179e"
             ],
             [
              0.4444444444444444,
              "#bd3786"
             ],
             [
              0.5555555555555556,
              "#d8576b"
             ],
             [
              0.6666666666666666,
              "#ed7953"
             ],
             [
              0.7777777777777778,
              "#fb9f3a"
             ],
             [
              0.8888888888888888,
              "#fdca26"
             ],
             [
              1,
              "#f0f921"
             ]
            ],
            "type": "surface"
           }
          ],
          "table": [
           {
            "cells": {
             "fill": {
              "color": "#EBF0F8"
             },
             "line": {
              "color": "white"
             }
            },
            "header": {
             "fill": {
              "color": "#C8D4E3"
             },
             "line": {
              "color": "white"
             }
            },
            "type": "table"
           }
          ]
         },
         "layout": {
          "annotationdefaults": {
           "arrowcolor": "#2a3f5f",
           "arrowhead": 0,
           "arrowwidth": 1
          },
          "autotypenumbers": "strict",
          "coloraxis": {
           "colorbar": {
            "outlinewidth": 0,
            "ticks": ""
           }
          },
          "colorscale": {
           "diverging": [
            [
             0,
             "#8e0152"
            ],
            [
             0.1,
             "#c51b7d"
            ],
            [
             0.2,
             "#de77ae"
            ],
            [
             0.3,
             "#f1b6da"
            ],
            [
             0.4,
             "#fde0ef"
            ],
            [
             0.5,
             "#f7f7f7"
            ],
            [
             0.6,
             "#e6f5d0"
            ],
            [
             0.7,
             "#b8e186"
            ],
            [
             0.8,
             "#7fbc41"
            ],
            [
             0.9,
             "#4d9221"
            ],
            [
             1,
             "#276419"
            ]
           ],
           "sequential": [
            [
             0,
             "#0d0887"
            ],
            [
             0.1111111111111111,
             "#46039f"
            ],
            [
             0.2222222222222222,
             "#7201a8"
            ],
            [
             0.3333333333333333,
             "#9c179e"
            ],
            [
             0.4444444444444444,
             "#bd3786"
            ],
            [
             0.5555555555555556,
             "#d8576b"
            ],
            [
             0.6666666666666666,
             "#ed7953"
            ],
            [
             0.7777777777777778,
             "#fb9f3a"
            ],
            [
             0.8888888888888888,
             "#fdca26"
            ],
            [
             1,
             "#f0f921"
            ]
           ],
           "sequentialminus": [
            [
             0,
             "#0d0887"
            ],
            [
             0.1111111111111111,
             "#46039f"
            ],
            [
             0.2222222222222222,
             "#7201a8"
            ],
            [
             0.3333333333333333,
             "#9c179e"
            ],
            [
             0.4444444444444444,
             "#bd3786"
            ],
            [
             0.5555555555555556,
             "#d8576b"
            ],
            [
             0.6666666666666666,
             "#ed7953"
            ],
            [
             0.7777777777777778,
             "#fb9f3a"
            ],
            [
             0.8888888888888888,
             "#fdca26"
            ],
            [
             1,
             "#f0f921"
            ]
           ]
          },
          "colorway": [
           "#636efa",
           "#EF553B",
           "#00cc96",
           "#ab63fa",
           "#FFA15A",
           "#19d3f3",
           "#FF6692",
           "#B6E880",
           "#FF97FF",
           "#FECB52"
          ],
          "font": {
           "color": "#2a3f5f"
          },
          "geo": {
           "bgcolor": "white",
           "lakecolor": "white",
           "landcolor": "white",
           "showlakes": true,
           "showland": true,
           "subunitcolor": "#C8D4E3"
          },
          "hoverlabel": {
           "align": "left"
          },
          "hovermode": "closest",
          "mapbox": {
           "style": "light"
          },
          "paper_bgcolor": "white",
          "plot_bgcolor": "white",
          "polar": {
           "angularaxis": {
            "gridcolor": "#EBF0F8",
            "linecolor": "#EBF0F8",
            "ticks": ""
           },
           "bgcolor": "white",
           "radialaxis": {
            "gridcolor": "#EBF0F8",
            "linecolor": "#EBF0F8",
            "ticks": ""
           }
          },
          "scene": {
           "xaxis": {
            "backgroundcolor": "white",
            "gridcolor": "#DFE8F3",
            "gridwidth": 2,
            "linecolor": "#EBF0F8",
            "showbackground": true,
            "ticks": "",
            "zerolinecolor": "#EBF0F8"
           },
           "yaxis": {
            "backgroundcolor": "white",
            "gridcolor": "#DFE8F3",
            "gridwidth": 2,
            "linecolor": "#EBF0F8",
            "showbackground": true,
            "ticks": "",
            "zerolinecolor": "#EBF0F8"
           },
           "zaxis": {
            "backgroundcolor": "white",
            "gridcolor": "#DFE8F3",
            "gridwidth": 2,
            "linecolor": "#EBF0F8",
            "showbackground": true,
            "ticks": "",
            "zerolinecolor": "#EBF0F8"
           }
          },
          "shapedefaults": {
           "line": {
            "color": "#2a3f5f"
           }
          },
          "ternary": {
           "aaxis": {
            "gridcolor": "#DFE8F3",
            "linecolor": "#A2B1C6",
            "ticks": ""
           },
           "baxis": {
            "gridcolor": "#DFE8F3",
            "linecolor": "#A2B1C6",
            "ticks": ""
           },
           "bgcolor": "white",
           "caxis": {
            "gridcolor": "#DFE8F3",
            "linecolor": "#A2B1C6",
            "ticks": ""
           }
          },
          "title": {
           "x": 0.05
          },
          "xaxis": {
           "automargin": true,
           "gridcolor": "#EBF0F8",
           "linecolor": "#EBF0F8",
           "ticks": "",
           "title": {
            "standoff": 15
           },
           "zerolinecolor": "#EBF0F8",
           "zerolinewidth": 2
          },
          "yaxis": {
           "automargin": true,
           "gridcolor": "#EBF0F8",
           "linecolor": "#EBF0F8",
           "ticks": "",
           "title": {
            "standoff": 15
           },
           "zerolinecolor": "#EBF0F8",
           "zerolinewidth": 2
          }
         }
        },
        "title": {
         "text": "Number of Episodes per Animation Studio"
        },
        "xaxis": {
         "anchor": "y",
         "domain": [
          0,
          1
         ],
         "title": {
          "text": "Animation Studio Name"
         }
        },
        "yaxis": {
         "anchor": "x",
         "domain": [
          0,
          1
         ],
         "title": {
          "text": "Number of Episodes"
         }
        }
       }
      },
      "image/png": "[encoded data removed]",
      "text/html": [
       "<div>                            <div id=\"038dd95b-4cf6-4603-9b63-c6924192ad8a\" class=\"plotly-graph-div\" style=\"height:525px; width:100%;\"></div>            <script type=\"text/javascript\">                require([\"plotly\"], function(Plotly) {                    window.PLOTLYENV=window.PLOTLYENV || {};                                    if (document.getElementById(\"038dd95b-4cf6-4603-9b63-c6924192ad8a\")) {                    Plotly.newPlot(                        \"038dd95b-4cf6-4603-9b63-c6924192ad8a\",                        [{\"alignmentgroup\":\"True\",\"hovertemplate\":\"Animation Studio Name=%{x}\\u003cbr\\u003eNumber of Episodes=%{y}\\u003cextra\\u003e\\u003c\\u002fextra\\u003e\",\"legendgroup\":\"\",\"marker\":{\"color\":\"#636efa\"},\"name\":\"\",\"notched\":false,\"offsetgroup\":\"\",\"orientation\":\"v\",\"showlegend\":false,\"x\":[\"Ufotable\",\"MAPPA\",\"A-1 Pictures\",\"Ufotable\",\"Madhouse\",null,\"Madhouse\",\"MAPPA\",\"A-1 Pictures\",\"Pierrot\",null,null,\"Bones\",\"MAPPA\",\"Trigger\",\"Trigger\",\"MAPPA\",\"Ufotable\",\"Bones\",\"Studio Ghibli\",null,\"Ufotable\",\"Trigger\",\"Trigger\",\"A-1 Pictures\",\"MAPPA\",\"Bones\",\"Toei Animation\",\"Bones\",\"Trigger\",\"Trigger\",\"Madhouse\",\"Trigger\",\"Studio Ghibli\",\"Wit Studio\",\"MAPPA\",\"Bones\",null,\"Ufotable\",\"Toei Animation\",\"Studio Ghibli\",\"Bones\",\"Wit Studio\",\"Toei Animation\",\"Madhouse\",\"Studio Ghibli\",\"Studio Ghibli\",\"Madhouse\",\"MAPPA\",\"Madhouse\",\"Studio Ghibli\",null,\"Wit Studio\",\"Trigger\",\"Toei Animation\",\"Madhouse\",\"Toei Animation\",\"Madhouse\",\"Ufotable\",\"Studio Ghibli\",\"Trigger\",\"Wit Studio\",\"Trigger\",\"Trigger\",\"Trigger\",\"Toei Animation\",\"Madhouse\",null,\"Ufotable\",\"Bones\",\"Trigger\",\"MAPPA\",null,\"Wit Studio\",\"Bones\",\"Pierrot\",\"MAPPA\",\"Pierrot\",\"Bones\",null,\"MAPPA\",\"Pierrot\",\"Wit Studio\",\"Madhouse\",\"Studio Ghibli\",\"Madhouse\",\"Bones\",\"Toei Animation\",\"Studio Ghibli\",\"Ufotable\",\"Wit Studio\",\"Ufotable\",\"MAPPA\",\"Studio Ghibli\",\"Ufotable\",null,\"Pierrot\",\"Madhouse\",\"Pierrot\",\"Studio Ghibli\"],\"x0\":\" \",\"xaxis\":\"x\",\"y\":[317.0,420.0,419.0,null,327.0,402.0,null,47.0,184.0,31.0,332.0,275.0,null,153.0,471.0,null,482.0,154.0,103.0,365.0,333.0,299.0,226.0,458.0,353.0,62.0,164.0,197.0,74.0,201.0,136.0,161.0,325.0,69.0,353.0,316.0,191.0,null,337.0,282.0,null,455.0,112.0,492.0,275.0,64.0,71.0,119.0,16.0,114.0,207.0,null,376.0,491.0,383.0,361.0,58.0,366.0,322.0,435.0,319.0,155.0,280.0,381.0,135.0,117.0,null,158.0,156.0,131.0,330.0,286.0,103.0,69.0,450.0,357.0,240.0,485.0,128.0,329.0,290.0,138.0,404.0,407.0,140.0,69.0,133.0,12.0,250.0,301.0,107.0,null,null,59.0,100.0,499.0,248.0,384.0,396.0,283.0],\"y0\":\" \",\"yaxis\":\"y\",\"type\":\"box\"}],                        {\"template\":{\"data\":{\"barpolar\":[{\"marker\":{\"line\":{\"color\":\"white\",\"width\":0.5},\"pattern\":{\"fillmode\":\"overlay\",\"size\":10,\"solidity\":0.2}},\"type\":\"barpolar\"}],\"bar\":[{\"error_x\":{\"color\":\"#2a3f5f\"},\"error_y\":{\"color\":\"#2a3f5f\"},\"marker\":{\"line\":{\"color\":\"white\",\"width\":0.5},\"pattern\":{\"fillmode\":\"overlay\",\"size\":10,\"solidity\":0.2}},\"type\":\"bar\"}],\"carpet\":[{\"aaxis\":{\"endlinecolor\":\"#2a3f5f\",\"gridcolor\":\"#C8D4E3\",\"linecolor\":\"#C8D4E3\",\"minorgridcolor\":\"#C8D4E3\",\"startlinecolor\":\"#2a3f5f\"},\"baxis\":{\"endlinecolor\":\"#2a3f5f\",\"gridcolor\":\"#C8D4E3\",\"linecolor\":\"#C8D4E3\",\"minorgridcolor\":\"#C8D4E3\",\"startlinecolor\":\"#2a3f5f\"},\"type\":\"carpet\"}],\"choropleth\":[{\"colorbar\":{\"outlinewidth\":0,\"ticks\":\"\"},\"type\":\"choropleth\"}],\"contourcarpet\":[{\"colorbar\":{\"outlinewidth\":0,\"ticks\":\"\"},\"type\":\"contourcarpet\"}],\"contour\":[{\"colorbar\":{\"outlinewidth\":0,\"ticks\":\"\"},\"colorscale\":[[0.0,\"#0d0887\"],[0.1111111111111111,\"#46039f\"],[0.2222222222222222,\"#7201a8\"],[0.3333333333333333,\"#9c179e\"],[0.4444444444444444,\"#bd3786\"],[0.5555555555555556,\"#d8576b\"],[0.6666666666666666,\"#ed7953\"],[0.7777777777777778,\"#fb9f3a\"],[0.8888888888888888,\"#fdca26\"],[1.0,\"#f0f921\"]],\"type\":\"contour\"}],\"heatmapgl\":[{\"colorbar\":{\"outlinewidth\":0,\"ticks\":\"\"},\"colorscale\":[[0.0,\"#0d0887\"],[0.1111111111111111,\"#46039f\"],[0.2222222222222222,\"#7201a8\"],[0.3333333333333333,\"#9c179e\"],[0.4444444444444444,\"#bd3786\"],[0.5555555555555556,\"#d8576b\"],[0.6666666666666666,\"#ed7953\"],[0.7777777777777778,\"#fb9f3a\"],[0.8888888888888888,\"#fdca26\"],[1.0,\"#f0f921\"]],\"type\":\"heatmapgl\"}],\"heatmap\":[{\"colorbar\":{\"outlinewidth\":0,\"ticks\":\"\"},\"colorscale\":[[0.0,\"#0d0887\"],[0.1111111111111111,\"#46039f\"],[0.2222222222222222,\"#7201a8\"],[0.3333333333333333,\"#9c179e\"],[0.4444444444444444,\"#bd3786\"],[0.5555555555555556,\"#d8576b\"],[0.6666666666666666,\"#ed7953\"],[0.7777777777777778,\"#fb9f3a\"],[0.8888888888888888,\"#fdca26\"],[1.0,\"#f0f921\"]],\"type\":\"heatmap\"}],\"histogram2dcontour\":[{\"colorbar\":{\"outlinewidth\":0,\"ticks\":\"\"},\"colorscale\":[[0.0,\"#0d0887\"],[0.1111111111111111,\"#46039f\"],[0.2222222222222222,\"#7201a8\"],[0.3333333333333333,\"#9c179e\"],[0.4444444444444444,\"#bd3786\"],[0.5555555555555556,\"#d8576b\"],[0.6666666666666666,\"#ed7953\"],[0.7777777777777778,\"#fb9f3a\"],[0.8888888888888888,\"#fdca26\"],[1.0,\"#f0f921\"]],\"type\":\"histogram2dcontour\"}],\"histogram2d\":[{\"colorbar\":{\"outlinewidth\":0,\"ticks\":\"\"},\"colorscale\":[[0.0,\"#0d0887\"],[0.1111111111111111,\"#46039f\"],[0.2222222222222222,\"#7201a8\"],[0.3333333333333333,\"#9c179e\"],[0.4444444444444444,\"#bd3786\"],[0.5555555555555556,\"#d8576b\"],[0.6666666666666666,\"#ed7953\"],[0.7777777777777778,\"#fb9f3a\"],[0.8888888888888888,\"#fdca26\"],[1.0,\"#f0f921\"]],\"type\":\"histogram2d\"}],\"histogram\":[{\"marker\":{\"pattern\":{\"fillmode\":\"overlay\",\"size\":10,\"solidity\":0.2}},\"type\":\"histogram\"}],\"mesh3d\":[{\"colorbar\":{\"outlinewidth\":0,\"ticks\":\"\"},\"type\":\"mesh3d\"}],\"parcoords\":[{\"line\":{\"colorbar\":{\"outlinewidth\":0,\"ticks\":\"\"}},\"type\":\"parcoords\"}],\"pie\":[{\"automargin\":true,\"type\":\"pie\"}],\"scatter3d\":[{\"line\":{\"colorbar\":{\"outlinewidth\":0,\"ticks\":\"\"}},\"marker\":{\"colorbar\":{\"outlinewidth\":0,\"ticks\":\"\"}},\"type\":\"scatter3d\"}],\"scattercarpet\":[{\"marker\":{\"colorbar\":{\"outlinewidth\":0,\"ticks\":\"\"}},\"type\":\"scattercarpet\"}],\"scattergeo\":[{\"marker\":{\"colorbar\":{\"outlinewidth\":0,\"ticks\":\"\"}},\"type\":\"scattergeo\"}],\"scattergl\":[{\"marker\":{\"colorbar\":{\"outlinewidth\":0,\"ticks\":\"\"}},\"type\":\"scattergl\"}],\"scattermapbox\":[{\"marker\":{\"colorbar\":{\"outlinewidth\":0,\"ticks\":\"\"}},\"type\":\"scattermapbox\"}],\"scatterpolargl\":[{\"marker\":{\"colorbar\":{\"outlinewidth\":0,\"ticks\":\"\"}},\"type\":\"scatterpolargl\"}],\"scatterpolar\":[{\"marker\":{\"colorbar\":{\"outlinewidth\":0,\"ticks\":\"\"}},\"type\":\"scatterpolar\"}],\"scatter\":[{\"fillpattern\":{\"fillmode\":\"overlay\",\"size\":10,\"solidity\":0.2},\"type\":\"scatter\"}],\"scatterternary\":[{\"marker\":{\"colorbar\":{\"outlinewidth\":0,\"ticks\":\"\"}},\"type\":\"scatterternary\"}],\"surface\":[{\"colorbar\":{\"outlinewidth\":0,\"ticks\":\"\"},\"colorscale\":[[0.0,\"#0d0887\"],[0.1111111111111111,\"#46039f\"],[0.2222222222222222,\"#7201a8\"],[0.3333333333333333,\"#9c179e\"],[0.4444444444444444,\"#bd3786\"],[0.5555555555555556,\"#d8576b\"],[0.6666666666666666,\"#ed7953\"],[0.7777777777777778,\"#fb9f3a\"],[0.8888888888888888,\"#fdca26\"],[1.0,\"#f0f921\"]],\"type\":\"surface\"}],\"table\":[{\"cells\":{\"fill\":{\"color\":\"#EBF0F8\"},\"line\":{\"color\":\"white\"}},\"header\":{\"fill\":{\"color\":\"#C8D4E3\"},\"line\":{\"color\":\"white\"}},\"type\":\"table\"}]},\"layout\":{\"annotationdefaults\":{\"arrowcolor\":\"#2a3f5f\",\"arrowhead\":0,\"arrowwidth\":1},\"autotypenumbers\":\"strict\",\"coloraxis\":{\"colorbar\":{\"outlinewidth\":0,\"ticks\":\"\"}},\"colorscale\":{\"diverging\":[[0,\"#8e0152\"],[0.1,\"#c51b7d\"],[0.2,\"#de77ae\"],[0.3,\"#f1b6da\"],[0.4,\"#fde0ef\"],[0.5,\"#f7f7f7\"],[0.6,\"#e6f5d0\"],[0.7,\"#b8e186\"],[0.8,\"#7fbc41\"],[0.9,\"#4d9221\"],[1,\"#276419\"]],\"sequential\":[[0.0,\"#0d0887\"],[0.1111111111111111,\"#46039f\"],[0.2222222222222222,\"#7201a8\"],[0.3333333333333333,\"#9c179e\"],[0.4444444444444444,\"#bd3786\"],[0.5555555555555556,\"#d8576b\"],[0.6666666666666666,\"#ed7953\"],[0.7777777777777778,\"#fb9f3a\"],[0.8888888888888888,\"#fdca26\"],[1.0,\"#f0f921\"]],\"sequentialminus\":[[0.0,\"#0d0887\"],[0.1111111111111111,\"#46039f\"],[0.2222222222222222,\"#7201a8\"],[0.3333333333333333,\"#9c179e\"],[0.4444444444444444,\"#bd3786\"],[0.5555555555555556,\"#d8576b\"],[0.6666666666666666,\"#ed7953\"],[0.7777777777777778,\"#fb9f3a\"],[0.8888888888888888,\"#fdca26\"],[1.0,\"#f0f921\"]]},\"colorway\":[\"#636efa\",\"#EF553B\",\"#00cc96\",\"#ab63fa\",\"#FFA15A\",\"#19d3f3\",\"#FF6692\",\"#B6E880\",\"#FF97FF\",\"#FECB52\"],\"font\":{\"color\":\"#2a3f5f\"},\"geo\":{\"bgcolor\":\"white\",\"lakecolor\":\"white\",\"landcolor\":\"white\",\"showlakes\":true,\"showland\":true,\"subunitcolor\":\"#C8D4E3\"},\"hoverlabel\":{\"align\":\"left\"},\"hovermode\":\"closest\",\"mapbox\":{\"style\":\"light\"},\"paper_bgcolor\":\"white\",\"plot_bgcolor\":\"white\",\"polar\":{\"angularaxis\":{\"gridcolor\":\"#EBF0F8\",\"linecolor\":\"#EBF0F8\",\"ticks\":\"\"},\"bgcolor\":\"white\",\"radialaxis\":{\"gridcolor\":\"#EBF0F8\",\"linecolor\":\"#EBF0F8\",\"ticks\":\"\"}},\"scene\":{\"xaxis\":{\"backgroundcolor\":\"white\",\"gridcolor\":\"#DFE8F3\",\"gridwidth\":2,\"linecolor\":\"#EBF0F8\",\"showbackground\":true,\"ticks\":\"\",\"zerolinecolor\":\"#EBF0F8\"},\"yaxis\":{\"backgroundcolor\":\"white\",\"gridcolor\":\"#DFE8F3\",\"gridwidth\":2,\"linecolor\":\"#EBF0F8\",\"showbackground\":true,\"ticks\":\"\",\"zerolinecolor\":\"#EBF0F8\"},\"zaxis\":{\"backgroundcolor\":\"white\",\"gridcolor\":\"#DFE8F3\",\"gridwidth\":2,\"linecolor\":\"#EBF0F8\",\"showbackground\":true,\"ticks\":\"\",\"zerolinecolor\":\"#EBF0F8\"}},\"shapedefaults\":{\"line\":{\"color\":\"#2a3f5f\"}},\"ternary\":{\"aaxis\":{\"gridcolor\":\"#DFE8F3\",\"linecolor\":\"#A2B1C6\",\"ticks\":\"\"},\"baxis\":{\"gridcolor\":\"#DFE8F3\",\"linecolor\":\"#A2B1C6\",\"ticks\":\"\"},\"bgcolor\":\"white\",\"caxis\":{\"gridcolor\":\"#DFE8F3\",\"linecolor\":\"#A2B1C6\",\"ticks\":\"\"}},\"title\":{\"x\":0.05},\"xaxis\":{\"automargin\":true,\"gridcolor\":\"#EBF0F8\",\"linecolor\":\"#EBF0F8\",\"ticks\":\"\",\"title\":{\"standoff\":15},\"zerolinecolor\":\"#EBF0F8\",\"zerolinewidth\":2},\"yaxis\":{\"automargin\":true,\"gridcolor\":\"#EBF0F8\",\"linecolor\":\"#EBF0F8\",\"ticks\":\"\",\"title\":{\"standoff\":15},\"zerolinecolor\":\"#EBF0F8\",\"zerolinewidth\":2}}},\"xaxis\":{\"anchor\":\"y\",\"domain\":[0.0,1.0],\"title\":{\"text\":\"Animation Studio Name\"}},\"yaxis\":{\"anchor\":\"x\",\"domain\":[0.0,1.0],\"title\":{\"text\":\"Number of Episodes\"}},\"legend\":{\"tracegroupgap\":0},\"title\":{\"text\":\"Number of Episodes per Animation Studio\"},\"boxmode\":\"group\",\"shapes\":[{\"line\":{\"color\":\"red\",\"dash\":\"dash\"},\"type\":\"line\",\"x0\":0,\"x1\":1,\"xref\":\"x domain\",\"y0\":300,\"y1\":300,\"yref\":\"y\"}]},                        {\"responsive\": true}                    ).then(function(){\n",
       "                            \n",
       "var gd = document.getElementById('038dd95b-4cf6-4603-9b63-c6924192ad8a');\n",
       "var x = new MutationObserver(function (mutations, observer) {{\n",
       "        var display = window.getComputedStyle(gd).display;\n",
       "        if (!display || display === 'none') {{\n",
       "            console.log([gd, 'removed!']);\n",
       "            Plotly.purge(gd);\n",
       "            observer.disconnect();\n",
       "        }}\n",
       "}});\n",
       "\n",
       "// Listen for the removal of the full notebook cells\n",
       "var notebookContainer = gd.closest('#notebook-container');\n",
       "if (notebookContainer) {{\n",
       "    x.observe(notebookContainer, {childList: true});\n",
       "}}\n",
       "\n",
       "// Listen for the clearing of the current output cell\n",
       "var outputEl = gd.closest('.output');\n",
       "if (outputEl) {{\n",
       "    x.observe(outputEl, {childList: true});\n",
       "}}\n",
       "\n",
       "                        })                };                });            </script>        </div>"
      ]
     },
     "metadata": {},
     "output_type": "display_data"
    }
   ],
   "source": [
    "#copy and pasted plotly plot from above, then changed to = my new data for plot.\n",
    "\n",
    "\n",
    "anime_fig = px.box(anime_df, \n",
    "             x='Animation Studio Name',y='Number of Episodes',title='Number of Episodes per Animation Studio',\n",
    "             labels={'Animation Studio Name': 'Animation Studio Name', 'Number of Episodes': 'Number of Episodes'},\n",
    "             template='plotly_white') #used chat gpt \"what property names can I use to change background colors and other properties for a ploty chart\" 2/26/25\n",
    "\n",
    "anime_fig.add_hline(y=300, line_dash='dash', line_color='red') #used chat gpt \"how to add vertical/horizantal lines at specific spots on plot using plotly\" 2/26/25\n",
    "anime_fig.show()"
   ]
  },
  {
   "cell_type": "markdown",
   "id": "f73653ac",
   "metadata": {},
   "source": [
    "&#9989; **Question 3.6 (2 points)**: Looking at the above output, answer the following questions: \n",
    "\n",
    "1. Which studio has the lowest median value for episodes to watch?\n",
    "2. Which studios have a median number of episodes over 300?\n"
   ]
  },
  {
   "cell_type": "markdown",
   "id": "3504aa6e",
   "metadata": {
    "question_id": "P2Q3",
    "tags": [
     "student_answer"
    ]
   },
   "source": [
    "**<font size=+3>&#9998;</font> Do This**: *Lowest Median value: Bones\n",
    "Studios having median number of episodes over 300 (NOT = 300): A-1 Pictures, Madhouse, Trigger.*"
   ]
  },
  {
   "cell_type": "markdown",
   "id": "d272b234",
   "metadata": {},
   "source": [
    "---\n",
    "### &#128721; STOP\n",
    "**Pause to commit your changes to your Git repository! (1 point)**\n",
    "\n",
    "Take a moment to save your notebook, commit the changes to your Git repository using the commit message \"**Committing Part 3**\", and push the changes to GitHub."
   ]
  },
  {
   "cell_type": "markdown",
   "id": "d59e4ea7",
   "metadata": {},
   "source": [
    "![keepgoing](https://media.giphy.com/media/XcAa52ejGuNqdb5SFQ/giphy.gif?cid=790b761114d73fop8879b63i6lpgjulam3sgmg7gib5vksnd&ep=v1_gifs_search&rid=giphy.gif&ct=g)"
   ]
  },
  {
   "cell_type": "markdown",
   "id": "e0e87d61",
   "metadata": {},
   "source": [
    "---\n",
    "<a id=\"part-4-object-oriented-programming-38-points\"></a>\n",
    "\n",
    "# Part 4: Object-Oriented Programming (38 points)\n",
    "\n",
    "[Back to Table of Contents](#Table-of-Contents)\n"
   ]
  },
  {
   "cell_type": "markdown",
   "id": "97cead65",
   "metadata": {},
   "source": [
    "&#9989; **Question 4.1 (9 points)**: The following cell contains a draft of a class called `Refrigerator` with only the `__init__` constructor. Complete the `__init__` constructor so that it:\n",
    "\n",
    "- Takes in these arguments: `size`,`color`,`location`,`temperature`, and `plugged_in` with default values on `temperature` and `plugged_in`. These arguments correspond to attributes of the same name. \n",
    "\n",
    "- The default value of `plugged_in`should be set to `True`. The default value of `temperature` should be set to an appropriate temperature of a frigerator that is on. \n"
   ]
  },
  {
   "cell_type": "code",
   "execution_count": 1,
   "id": "e8bb368c",
   "metadata": {
    "question_id": "P3Q8",
    "tags": [
     "student_answer"
    ]
   },
   "outputs": [
    {
     "ename": "SyntaxError",
     "evalue": "invalid syntax (1267051159.py, line 22)",
     "output_type": "error",
     "traceback": [
      "\u001b[0;36m  Cell \u001b[0;32mIn[1], line 22\u001b[0;36m\u001b[0m\n\u001b[0;31m    def __init__(self,size,color,location,temperature=??,plugged_in = ??):\u001b[0m\n\u001b[0m                                                      ^\u001b[0m\n\u001b[0;31mSyntaxError\u001b[0m\u001b[0;31m:\u001b[0m invalid syntax\n"
     ]
    }
   ],
   "source": [
    "#Finish this code by adding to it and comleting it! Change any places with a ??. \n",
    "#do not worry about temp_convert for now\n",
    "class Refrigerator:\n",
    "    \"\"\"Base class for refrigerators. \n",
    "    \n",
    "    Attributes\n",
    "    ----------\n",
    "    size : str\n",
    "        The size of the refrigerator. Can be 'full size' or 'mini'.\n",
    "    \n",
    "    color : str\n",
    "        The color of the refrigerator. \n",
    "    \n",
    "    location : str\n",
    "        The location of the refrigerator. Could be 'kitchen', 'basement', 'garage' etc..\n",
    "    \n",
    "    temperature : float\n",
    "        The temperature of the refrigerator. By default should be temperature of a refrigerator that is on.\n",
    "    \n",
    "    plugged_in : boolean\n",
    "        If the ferigerator is plugged in or not. By default set to 'True' meaning it is plugged in and on.\n",
    "    \"\"\"\n",
    "    def __init__(self,size,color,location,temperature=??,plugged_in = ??): \n",
    "        \"\"\"Initialize the refrigerator with its attributes \n",
    "        and set the initial temperature and plugged_in.\n",
    "        \n",
    "        Input Parameter\n",
    "        ---------------\n",
    "        size : str\n",
    "            The size of the refrigerator. Can be 'full size' or 'mini'.\n",
    "        \n",
    "        color : str\n",
    "            The color of the refrigerator. \n",
    "    \n",
    "        location : str\n",
    "            The location of the refrigerator. Could be 'kitchen', 'basement', 'garage' etc..\n",
    "        \n",
    "        Default Parameter\n",
    "        -----------------\n",
    "        temperature : float\n",
    "            The temperature of the refrigerator. By default should be temperature of a refrigerator that is on.\n",
    "    \n",
    "        plugged_in : boolean\n",
    "            If the ferigerator is plugged in or not. By default set to 'True' meaning it is plugged in and on.\"\"\"\n",
    "        \n",
    "        # Put your code here\n",
    "        \n",
    "        self.size = ??\n",
    "        self.color = ??\n",
    "        self.location = ??\n",
    "        self.temperature = ??\n",
    "        self.plugged_in = ??\n",
    "        \n",
    "    def temp_convert(self,current_temp_unit,new_temp_unit):\n",
    "        \"\"\"Filler Doc String to be completed later\n",
    "        \n",
    "        Input Parameter\n",
    "        ---------------\n",
    "        current_temp_unit : ??\n",
    "            ??\n",
    "        \n",
    "        new_temp_unit : ??\n",
    "            ??\n",
    "            \"\"\"\n"
   ]
  },
  {
   "cell_type": "markdown",
   "id": "8ea7bbcf",
   "metadata": {},
   "source": [
    "## Test your code\n",
    "\n",
    "Let's check that the code works. Run the following cells. If an error is returned, go back and debug your code."
   ]
  },
  {
   "cell_type": "code",
   "execution_count": 3,
   "id": "b0155fe2",
   "metadata": {
    "question_id": "P3Q8",
    "tags": [
     "student_answer"
    ]
   },
   "outputs": [
    {
     "name": "stdout",
     "output_type": "stream",
     "text": [
      "full\n"
     ]
    },
    {
     "data": {
      "text/plain": [
       "36.0"
      ]
     },
     "execution_count": 3,
     "metadata": {},
     "output_type": "execute_result"
    }
   ],
   "source": [
    "fridge = Refrigerator(color = \"silver\", location = 'kitchen', size = \"full\")\n",
    "\n",
    "print(fridge.size)\n",
    "fridge.temperature"
   ]
  },
  {
   "cell_type": "markdown",
   "id": "1898d751",
   "metadata": {},
   "source": [
    "&#9989; **Question 4.1.2 (1 point):** Oh no! We did not specify our unit of temperature when creating this class. Go back to your `Refrigerator` class and update your doc string to include information detailing which unit of temperature your `Refrigerator` class defaults to. After you have updated your doc string, paste your text that you added into the cell below.\n",
    "\n"
   ]
  },
  {
   "cell_type": "markdown",
   "id": "fc968cc2",
   "metadata": {},
   "source": [
    "Paste your added doc string text here"
   ]
  },
  {
   "cell_type": "markdown",
   "id": "84dfc2e7",
   "metadata": {},
   "source": [
    "&#9989; **Question 4.1.3 (5 points):** Now go back and add an additional attribute to your `Refrigerator` class inside of your `__init__` constructor called `temp_unit` that specifies your default temperature unit as a string. ('Celcius', 'Fahrenheight', or 'Kelvin'). make sure you update your doc string to reflect this change as well."
   ]
  },
  {
   "cell_type": "code",
   "execution_count": null,
   "id": "5d091bff",
   "metadata": {},
   "outputs": [],
   "source": [
    "#paste your updated Refrigerator class code here"
   ]
  },
  {
   "cell_type": "markdown",
   "id": "54fa1889",
   "metadata": {},
   "source": [
    "## Test your code\n",
    "\n",
    "Let's check that the code works. Run the following cells. If an error is returned or it is not the expected output, go back to your code and debug it!"
   ]
  },
  {
   "cell_type": "code",
   "execution_count": 5,
   "id": "acb8fa7d",
   "metadata": {},
   "outputs": [
    {
     "data": {
      "text/plain": [
       "'Fahrenheight'"
      ]
     },
     "execution_count": 5,
     "metadata": {},
     "output_type": "execute_result"
    }
   ],
   "source": [
    "fridge = Refrigerator(color = \"silver\", location = 'kitchen', size = \"full\")\n",
    "fridge.temp_unit"
   ]
  },
  {
   "cell_type": "markdown",
   "id": "42e509f8",
   "metadata": {},
   "source": [
    "---\n",
    "&#9989; **Question 4.2 (20 points)**: Now let's work on a method in our `Refrigerator` class that focuses on the temperature. Modify the method in the Refrigerator class called `temp_convert` so that it takes the temperature attribute and converts it to a different temperature unit (either Celsius, Fahrenheight, or Kelvin).  \n",
    "\n",
    "- This `temp_convert` method should have two input parameters, as strings. The first string paremeter will be the current tempeature unit of the refrigerator, while the second string paremeter will be the temperature unit to be converted to. \n",
    "\n",
    "- This `temp_convert` method should be able to convert from any starting temperature unit to another. \n",
    "\n",
    "- `temp_convert` should update the float value of the `temperature` attribute and the string value of the `temp_unit` as well. \n",
    "\n",
    "- `temp_convert` needs its doc string to be updated as well. Make sure you update the filler doc string to reflect what the method does/accomplishes along with information on the input parameters (what their data type is and what the data is).\n",
    "\n",
    "- **OPTIONAL** Can you include an output that says 'successful conversion' if both the `temperature` and `temp_unit` are changed, and an output that says 'unsuccessful conversion: either unit of temperature did not change from original, or unit of temperature does not exist (maybe check your spelling)' if both the `temperature` and `temp_unit` are not changed.\n",
    "        "
   ]
  },
  {
   "cell_type": "code",
   "execution_count": null,
   "id": "0fd92830",
   "metadata": {
    "question_id": "P3Q8",
    "tags": [
     "student_answer"
    ]
   },
   "outputs": [],
   "source": [
    "#Copy your Refrigerator class here and then add/modify the `temp_convert` method. "
   ]
  },
  {
   "cell_type": "markdown",
   "id": "f9a56d88",
   "metadata": {},
   "source": [
    "## Test your code\n",
    "\n",
    "Let's check that the code works. Run the following cell. If an error is returned or it is not the expected output, go back and debug your code!"
   ]
  },
  {
   "cell_type": "code",
   "execution_count": 56,
   "id": "aead8b37",
   "metadata": {
    "question_id": "P3Q8",
    "tags": [
     "student_answer"
    ]
   },
   "outputs": [
    {
     "name": "stdout",
     "output_type": "stream",
     "text": [
      "Fahrenheight\n",
      "36.0\n",
      "Celsius\n",
      "2.2222222222222223\n",
      "Kelvin\n",
      "275.3722222222222\n",
      "Fahrenheight\n",
      "36.000000000000014\n",
      "Kelvin\n",
      "275.3722222222222\n",
      "Celsius\n",
      "2.2222222222222285\n",
      "Fahrenheight\n",
      "36.000000000000014\n",
      "Celsius\n",
      "2.2222222222222303\n"
     ]
    }
   ],
   "source": [
    "# \n",
    "\n",
    "new_fridge = Refrigerator(color = \"silver\", location = 'kitchen', size = \"full\")\n",
    "print(new_fridge.temp_unit)\n",
    "print(new_fridge.temperature)\n",
    "\n",
    "new_fridge.temp_convert(new_fridge.temp_unit,\"Celsius\")\n",
    "print(new_fridge.temp_unit)\n",
    "print(new_fridge.temperature)\n",
    "\n",
    "new_fridge.temp_convert(new_fridge.temp_unit,\"Kelvin\")\n",
    "print(new_fridge.temp_unit)\n",
    "print(new_fridge.temperature)\n",
    "\n",
    "new_fridge.temp_convert(new_fridge.temp_unit,\"Fahrenheight\")\n",
    "print(new_fridge.temp_unit)\n",
    "print(new_fridge.temperature)\n",
    "\n",
    "new_fridge.temp_convert(new_fridge.temp_unit,\"Kelvin\")\n",
    "print(new_fridge.temp_unit)\n",
    "print(new_fridge.temperature)\n",
    "\n",
    "new_fridge.temp_convert(new_fridge.temp_unit,\"Celsius\")\n",
    "print(new_fridge.temp_unit)\n",
    "print(new_fridge.temperature)\n",
    "\n",
    "new_fridge.temp_convert(new_fridge.temp_unit,\"Fahrenheight\")\n",
    "print(new_fridge.temp_unit)\n",
    "print(new_fridge.temperature)\n",
    "\n",
    "new_fridge.temp_convert(new_fridge.temp_unit,\"Celsius\")\n",
    "print(new_fridge.temp_unit)\n",
    "print(new_fridge.temperature)"
   ]
  },
  {
   "cell_type": "markdown",
   "id": "3e0cab0c",
   "metadata": {},
   "source": [
    "&#9989; **Question 4.3 (2 points):** How does your temperature attribute look when it is printed? Are there too many decimal places? How might you fix this? Either go back and update your code to make this fix or explain how you would make this fix in words. "
   ]
  },
  {
   "cell_type": "markdown",
   "id": "5772c1f0",
   "metadata": {},
   "source": [
    "**put your answer here**"
   ]
  },
  {
   "cell_type": "markdown",
   "id": "59ddbb0c",
   "metadata": {},
   "source": [
    "---\n",
    "### &#128721; STOP\n",
    "**Pause to commit your changes to your Git repository! (1 point)**\n",
    "\n",
    "Take a moment to save your notebook, commit the changes to your Git repository using the commit message \"**Committing Part 4**\", and push the changes to GitHub.\n",
    "\n",
    "---"
   ]
  },
  {
   "cell_type": "markdown",
   "id": "5f544d19",
   "metadata": {},
   "source": [
    "---\n",
    "<a id=\"part-5-conclusion-3-points\"></a>\n",
    "\n",
    "# Part 5. Conclusion (3 points)\n",
    "\n",
    "[Back to Table of Contents](#Table-of-Contents)\n",
    "\n",
    "Make sure all of your changes to your repository are committed and pushed to GitHub. \n",
    "Before you leave\n",
    "\n",
    "1. Commit changes to your **local** `git` repository (1 point)\n",
    "\n",
    "2. Push the changes to your GitHub repository (1 point)\n",
    "\n",
    "3. Upload your notebook to D2L in case something went wrong with your repository or if you couldn't get the repository to work.  (1 point)"
   ]
  },
  {
   "cell_type": "markdown",
   "id": "24532561",
   "metadata": {},
   "source": [
    "Also, please take this mid-semester evaluation survey so I might try and correct my teaching for the rest of the term! https://forms.office.com/r/Ev2vGcz4Qq"
   ]
  },
  {
   "cell_type": "markdown",
   "id": "13e2870e",
   "metadata": {},
   "source": [
    "## You're done! Congrats on finishing your CMSE 202 Midterm! \n",
    "\n",
    "![Moira2](https://media.giphy.com/media/d1E2HnwywoTkES08/giphy.gif)"
   ]
  }
 ],
 "metadata": {
  "kernelspec": {
   "display_name": "Python 3.11 (default)",
   "language": "python",
   "name": "python3"
  },
  "language_info": {
   "codemirror_mode": {
    "name": "ipython",
    "version": 3
   },
   "file_extension": ".py",
   "mimetype": "text/x-python",
   "name": "python",
   "nbconvert_exporter": "python",
   "pygments_lexer": "ipython3",
   "version": "3.11.11"
  },
  "widgets": {
   "application/vnd.jupyter.widget-state+json": {
    "state": {},
    "version_major": 2,
    "version_minor": 0
   }
  }
 },
 "nbformat": 4,
 "nbformat_minor": 5
}
